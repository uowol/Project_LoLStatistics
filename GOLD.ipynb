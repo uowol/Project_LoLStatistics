{
 "cells": [
  {
   "cell_type": "code",
   "execution_count": 151,
   "source": [
    "import numpy as np\n",
    "import pandas as pd\n",
    "import json\n",
    "import seaborn as sns\n",
    "import matplotlib.pyplot as plt"
   ],
   "outputs": [],
   "metadata": {}
  },
  {
   "cell_type": "code",
   "execution_count": 152,
   "source": [
    "summoner_name = \"야식은치킨이지\"\n",
    "timeline = pd.read_json(\"data/{name}/timeline.json\".format(name=summoner_name))"
   ],
   "outputs": [],
   "metadata": {}
  },
  {
   "cell_type": "code",
   "execution_count": 153,
   "source": [
    "match_length = len(timeline)\n",
    "metadata = pd.concat([pd.json_normalize(timeline[\"metadata\"][match_idx]).iloc[:,1:] for match_idx in range(match_length)]).reset_index()"
   ],
   "outputs": [],
   "metadata": {}
  },
  {
   "cell_type": "code",
   "execution_count": 154,
   "source": [
    "match_index = 1\n",
    "match_time_length = len(timeline[\"info\"][match_index][\"frames\"])\n",
    "events = [timeline[\"info\"][match_index][\"frames\"][t][\"events\"] for t in range(match_time_length)]\n",
    "participantFrames = [timeline[\"info\"][match_index][\"frames\"][t][\"participantFrames\"] for t in range(match_time_length)]"
   ],
   "outputs": [],
   "metadata": {}
  },
  {
   "cell_type": "code",
   "execution_count": 155,
   "source": [
    "[[\"blue\"]*5,[\"red\"]*5]"
   ],
   "outputs": [
    {
     "output_type": "execute_result",
     "data": {
      "text/plain": [
       "[['blue', 'blue', 'blue', 'blue', 'blue'], ['red', 'red', 'red', 'red', 'red']]"
      ]
     },
     "metadata": {},
     "execution_count": 155
    }
   ],
   "metadata": {}
  },
  {
   "cell_type": "code",
   "execution_count": 156,
   "source": [
    "def get_total_gold(t):\n",
    "    return(np.array([participantFrames[t][str(idx)][\"totalGold\"] for idx in range(1,11)]))\n",
    "\n",
    "print(\"마지막 골드 총량\", get_total_gold(match_time_length-1))\n",
    "sns.barplot(x=np.arange(1,11), y=get_total_gold(match_time_length-1), hue=[\"b\",\"b\",\"b\",\"b\",\"b\",\"r\",\"r\",\"r\",\"r\",\"r\"])"
   ],
   "outputs": [
    {
     "output_type": "stream",
     "name": "stdout",
     "text": [
      "마지막 골드 총량 [14516 12546  8804 12092 13128 12074 11293 12243 10625  8497]\n"
     ]
    },
    {
     "output_type": "execute_result",
     "data": {
      "text/plain": [
       "<AxesSubplot:>"
      ]
     },
     "metadata": {},
     "execution_count": 156
    },
    {
     "output_type": "display_data",
     "data": {
      "image/png": "[encoded data removed]",
      "text/plain": [
       "<Figure size 432x288 with 1 Axes>"
      ]
     },
     "metadata": {
      "needs_background": "light"
     }
    }
   ],
   "metadata": {}
  },
  {
   "cell_type": "code",
   "execution_count": 157,
   "source": [
    "total_gold = pd.DataFrame.from_records([get_total_gold(t) for t in range(match_time_length)])\n",
    "total_gold_blue, total_gold_red = total_gold.iloc[:,:5], total_gold.iloc[:,5:]\n",
    "total_gold_blue.head()"
   ],
   "outputs": [
    {
     "output_type": "execute_result",
     "data": {
      "text/html": [
       "<div>\n",
       "<style scoped>\n",
       "    .dataframe tbody tr th:only-of-type {\n",
       "        vertical-align: middle;\n",
       "    }\n",
       "\n",
       "    .dataframe tbody tr th {\n",
       "        vertical-align: top;\n",
       "    }\n",
       "\n",
       "    .dataframe thead th {\n",
       "        text-align: right;\n",
       "    }\n",
       "</style>\n",
       "<table border=\"1\" class=\"dataframe\">\n",
       "  <thead>\n",
       "    <tr style=\"text-align: right;\">\n",
       "      <th></th>\n",
       "      <th>0</th>\n",
       "      <th>1</th>\n",
       "      <th>2</th>\n",
       "      <th>3</th>\n",
       "      <th>4</th>\n",
       "    </tr>\n",
       "  </thead>\n",
       "  <tbody>\n",
       "    <tr>\n",
       "      <th>0</th>\n",
       "      <td>500</td>\n",
       "      <td>500</td>\n",
       "      <td>500</td>\n",
       "      <td>500</td>\n",
       "      <td>500</td>\n",
       "    </tr>\n",
       "    <tr>\n",
       "      <th>1</th>\n",
       "      <td>500</td>\n",
       "      <td>500</td>\n",
       "      <td>500</td>\n",
       "      <td>500</td>\n",
       "      <td>500</td>\n",
       "    </tr>\n",
       "    <tr>\n",
       "      <th>2</th>\n",
       "      <td>521</td>\n",
       "      <td>590</td>\n",
       "      <td>523</td>\n",
       "      <td>563</td>\n",
       "      <td>621</td>\n",
       "    </tr>\n",
       "    <tr>\n",
       "      <th>3</th>\n",
       "      <td>857</td>\n",
       "      <td>868</td>\n",
       "      <td>759</td>\n",
       "      <td>839</td>\n",
       "      <td>1023</td>\n",
       "    </tr>\n",
       "    <tr>\n",
       "      <th>4</th>\n",
       "      <td>1099</td>\n",
       "      <td>1133</td>\n",
       "      <td>894</td>\n",
       "      <td>1120</td>\n",
       "      <td>1313</td>\n",
       "    </tr>\n",
       "  </tbody>\n",
       "</table>\n",
       "</div>"
      ],
      "text/plain": [
       "      0     1    2     3     4\n",
       "0   500   500  500   500   500\n",
       "1   500   500  500   500   500\n",
       "2   521   590  523   563   621\n",
       "3   857   868  759   839  1023\n",
       "4  1099  1133  894  1120  1313"
      ]
     },
     "metadata": {},
     "execution_count": 157
    }
   ],
   "metadata": {}
  },
  {
   "cell_type": "code",
   "execution_count": 289,
   "source": [
    "team_total_gold_gap = team_total_gold_blue-team_total_gold_red\n",
    "# sns.lineplot(x=range(match_time_length), y=team_total_gold_gap)\n",
    "\n",
    "plt.figure(figsize=(15,7))\n",
    "plt.title(\"Team gold gap\")\n",
    "plt.xlabel('time(minute)', fontsize=12)\n",
    "plt.ylabel('gold gap', fontsize=12)\n",
    "g = sns.barplot(x=np.arange(match_time_length), y=team_total_gold_blue-team_total_gold_red, label=\"blue team gold - red team gold\")\n",
    "plt.xticks(np.arange(0, match_time_length+2, step=1), fontsize=12)\n",
    "plt.yticks(np.arange(-10000, 10000, step=1000), fontsize=12)\n",
    "plt.ylim(team_total_gold_gap.min()-500, team_total_gold_gap.max()+500)\n",
    "plt.axhline(y=0, color=\"k\")\n",
    "\n",
    "for i in range(match_time_length):\n",
    "    p = g.patches[i]\n",
    "    g.annotate(\"%.0f\"%p.get_height(), (p.get_x() + p.get_width()/2., p.get_height()), \n",
    "        ha='center', va='center', fontsize=8, color='k', xytext=(0, 10 if team_total_gold_gap[i] > 0 else -10), \n",
    "        textcoords='offset points')"
   ],
   "outputs": [
    {
     "output_type": "display_data",
     "data": {
      "image/png": "[encoded data removed]",
      "text/plain": [
       "<Figure size 1080x504 with 1 Axes>"
      ]
     },
     "metadata": {
      "needs_background": "light"
     }
    }
   ],
   "metadata": {}
  },
  {
   "cell_type": "code",
   "execution_count": 281,
   "source": [
    "diff = []\n",
    "for i in range(1, match_time_length):\n",
    "    diff.append(team_total_gold_gap[i] - team_total_gold_gap[i-1])\n",
    "df_diff = pd.DataFrame(diff, columns=[\"diff\"])\n",
    "df_diff.index = range(1, match_time_length)\n",
    "\n",
    "idx_largest_desc, idx_largest_asc = df_diff.sort_values(by=\"diff\").index[[0,-1]]     # 가장 큰 차이가 발생한 시점\n",
    "idx_largest_desc, idx_largest_asc"
   ],
   "outputs": [
    {
     "output_type": "execute_result",
     "data": {
      "text/plain": [
       "(21, 19)"
      ]
     },
     "metadata": {},
     "execution_count": 281
    }
   ],
   "metadata": {}
  },
  {
   "cell_type": "code",
   "execution_count": 268,
   "source": [
    "for e in events[idx_largest_asc]:\n",
    "    if e[\"type\"] == \"LEVEL_UP\": continue\n",
    "    if e[\"type\"] == \"SKILL_LEVEL_UP\": continue\n",
    "    if e[\"type\"] == \"WARD_PLACED\": continue\n",
    "    if e[\"type\"] == \"ITEM_DESTROYED\": continue\n",
    "    if e[\"type\"] == \"ITEM_PURCHASED\": continue\n",
    "    print(\"type\", e[\"type\"])\n",
    "    display(pd.json_normalize(e))"
   ],
   "outputs": [
    {
     "output_type": "stream",
     "name": "stdout",
     "text": [
      "type CHAMPION_KILL\n"
     ]
    },
    {
     "output_type": "display_data",
     "data": {
      "text/html": [
       "<div>\n",
       "<style scoped>\n",
       "    .dataframe tbody tr th:only-of-type {\n",
       "        vertical-align: middle;\n",
       "    }\n",
       "\n",
       "    .dataframe tbody tr th {\n",
       "        vertical-align: top;\n",
       "    }\n",
       "\n",
       "    .dataframe thead th {\n",
       "        text-align: right;\n",
       "    }\n",
       "</style>\n",
       "<table border=\"1\" class=\"dataframe\">\n",
       "  <thead>\n",
       "    <tr style=\"text-align: right;\">\n",
       "      <th></th>\n",
       "      <th>bounty</th>\n",
       "      <th>killStreakLength</th>\n",
       "      <th>killerId</th>\n",
       "      <th>timestamp</th>\n",
       "      <th>type</th>\n",
       "      <th>victimDamageDealt</th>\n",
       "      <th>victimDamageReceived</th>\n",
       "      <th>victimId</th>\n",
       "      <th>position.x</th>\n",
       "      <th>position.y</th>\n",
       "    </tr>\n",
       "  </thead>\n",
       "  <tbody>\n",
       "    <tr>\n",
       "      <th>0</th>\n",
       "      <td>300</td>\n",
       "      <td>2</td>\n",
       "      <td>5</td>\n",
       "      <td>1087001</td>\n",
       "      <td>CHAMPION_KILL</td>\n",
       "      <td>[{'basic': False, 'magicDamage': 73, 'name': '...</td>\n",
       "      <td>[{'basic': True, 'magicDamage': 0, 'name': 'SR...</td>\n",
       "      <td>10</td>\n",
       "      <td>11196</td>\n",
       "      <td>4123</td>\n",
       "    </tr>\n",
       "  </tbody>\n",
       "</table>\n",
       "</div>"
      ],
      "text/plain": [
       "   bounty  killStreakLength  killerId  timestamp           type  \\\n",
       "0     300                 2         5    1087001  CHAMPION_KILL   \n",
       "\n",
       "                                   victimDamageDealt  \\\n",
       "0  [{'basic': False, 'magicDamage': 73, 'name': '...   \n",
       "\n",
       "                                victimDamageReceived  victimId  position.x  \\\n",
       "0  [{'basic': True, 'magicDamage': 0, 'name': 'SR...        10       11196   \n",
       "\n",
       "   position.y  \n",
       "0        4123  "
      ]
     },
     "metadata": {}
    },
    {
     "output_type": "stream",
     "name": "stdout",
     "text": [
      "type CHAMPION_KILL\n"
     ]
    },
    {
     "output_type": "display_data",
     "data": {
      "text/html": [
       "<div>\n",
       "<style scoped>\n",
       "    .dataframe tbody tr th:only-of-type {\n",
       "        vertical-align: middle;\n",
       "    }\n",
       "\n",
       "    .dataframe tbody tr th {\n",
       "        vertical-align: top;\n",
       "    }\n",
       "\n",
       "    .dataframe thead th {\n",
       "        text-align: right;\n",
       "    }\n",
       "</style>\n",
       "<table border=\"1\" class=\"dataframe\">\n",
       "  <thead>\n",
       "    <tr style=\"text-align: right;\">\n",
       "      <th></th>\n",
       "      <th>assistingParticipantIds</th>\n",
       "      <th>bounty</th>\n",
       "      <th>killStreakLength</th>\n",
       "      <th>killerId</th>\n",
       "      <th>timestamp</th>\n",
       "      <th>type</th>\n",
       "      <th>victimDamageDealt</th>\n",
       "      <th>victimDamageReceived</th>\n",
       "      <th>victimId</th>\n",
       "      <th>position.x</th>\n",
       "      <th>position.y</th>\n",
       "    </tr>\n",
       "  </thead>\n",
       "  <tbody>\n",
       "    <tr>\n",
       "      <th>0</th>\n",
       "      <td>[9]</td>\n",
       "      <td>300</td>\n",
       "      <td>1</td>\n",
       "      <td>7</td>\n",
       "      <td>1089810</td>\n",
       "      <td>CHAMPION_KILL</td>\n",
       "      <td>[{'basic': False, 'magicDamage': 0, 'name': 'Z...</td>\n",
       "      <td>[{'basic': False, 'magicDamage': 0, 'name': 'Z...</td>\n",
       "      <td>1</td>\n",
       "      <td>8335</td>\n",
       "      <td>4820</td>\n",
       "    </tr>\n",
       "  </tbody>\n",
       "</table>\n",
       "</div>"
      ],
      "text/plain": [
       "  assistingParticipantIds  bounty  killStreakLength  killerId  timestamp  \\\n",
       "0                     [9]     300                 1         7    1089810   \n",
       "\n",
       "            type                                  victimDamageDealt  \\\n",
       "0  CHAMPION_KILL  [{'basic': False, 'magicDamage': 0, 'name': 'Z...   \n",
       "\n",
       "                                victimDamageReceived  victimId  position.x  \\\n",
       "0  [{'basic': False, 'magicDamage': 0, 'name': 'Z...         1        8335   \n",
       "\n",
       "   position.y  \n",
       "0        4820  "
      ]
     },
     "metadata": {}
    },
    {
     "output_type": "stream",
     "name": "stdout",
     "text": [
      "type CHAMPION_KILL\n"
     ]
    },
    {
     "output_type": "display_data",
     "data": {
      "text/html": [
       "<div>\n",
       "<style scoped>\n",
       "    .dataframe tbody tr th:only-of-type {\n",
       "        vertical-align: middle;\n",
       "    }\n",
       "\n",
       "    .dataframe tbody tr th {\n",
       "        vertical-align: top;\n",
       "    }\n",
       "\n",
       "    .dataframe thead th {\n",
       "        text-align: right;\n",
       "    }\n",
       "</style>\n",
       "<table border=\"1\" class=\"dataframe\">\n",
       "  <thead>\n",
       "    <tr style=\"text-align: right;\">\n",
       "      <th></th>\n",
       "      <th>bounty</th>\n",
       "      <th>killStreakLength</th>\n",
       "      <th>killerId</th>\n",
       "      <th>timestamp</th>\n",
       "      <th>type</th>\n",
       "      <th>victimDamageDealt</th>\n",
       "      <th>victimDamageReceived</th>\n",
       "      <th>victimId</th>\n",
       "      <th>position.x</th>\n",
       "      <th>position.y</th>\n",
       "    </tr>\n",
       "  </thead>\n",
       "  <tbody>\n",
       "    <tr>\n",
       "      <th>0</th>\n",
       "      <td>274</td>\n",
       "      <td>3</td>\n",
       "      <td>5</td>\n",
       "      <td>1093179</td>\n",
       "      <td>CHAMPION_KILL</td>\n",
       "      <td>[{'basic': False, 'magicDamage': 0, 'name': 'A...</td>\n",
       "      <td>[{'basic': True, 'magicDamage': 0, 'name': 'SR...</td>\n",
       "      <td>8</td>\n",
       "      <td>13786</td>\n",
       "      <td>4018</td>\n",
       "    </tr>\n",
       "  </tbody>\n",
       "</table>\n",
       "</div>"
      ],
      "text/plain": [
       "   bounty  killStreakLength  killerId  timestamp           type  \\\n",
       "0     274                 3         5    1093179  CHAMPION_KILL   \n",
       "\n",
       "                                   victimDamageDealt  \\\n",
       "0  [{'basic': False, 'magicDamage': 0, 'name': 'A...   \n",
       "\n",
       "                                victimDamageReceived  victimId  position.x  \\\n",
       "0  [{'basic': True, 'magicDamage': 0, 'name': 'SR...         8       13786   \n",
       "\n",
       "   position.y  \n",
       "0        4018  "
      ]
     },
     "metadata": {}
    },
    {
     "output_type": "stream",
     "name": "stdout",
     "text": [
      "type CHAMPION_SPECIAL_KILL\n"
     ]
    },
    {
     "output_type": "display_data",
     "data": {
      "text/html": [
       "<div>\n",
       "<style scoped>\n",
       "    .dataframe tbody tr th:only-of-type {\n",
       "        vertical-align: middle;\n",
       "    }\n",
       "\n",
       "    .dataframe tbody tr th {\n",
       "        vertical-align: top;\n",
       "    }\n",
       "\n",
       "    .dataframe thead th {\n",
       "        text-align: right;\n",
       "    }\n",
       "</style>\n",
       "<table border=\"1\" class=\"dataframe\">\n",
       "  <thead>\n",
       "    <tr style=\"text-align: right;\">\n",
       "      <th></th>\n",
       "      <th>killType</th>\n",
       "      <th>killerId</th>\n",
       "      <th>multiKillLength</th>\n",
       "      <th>timestamp</th>\n",
       "      <th>type</th>\n",
       "      <th>position.x</th>\n",
       "      <th>position.y</th>\n",
       "    </tr>\n",
       "  </thead>\n",
       "  <tbody>\n",
       "    <tr>\n",
       "      <th>0</th>\n",
       "      <td>KILL_MULTI</td>\n",
       "      <td>5</td>\n",
       "      <td>2</td>\n",
       "      <td>1093179</td>\n",
       "      <td>CHAMPION_SPECIAL_KILL</td>\n",
       "      <td>13513</td>\n",
       "      <td>3831</td>\n",
       "    </tr>\n",
       "  </tbody>\n",
       "</table>\n",
       "</div>"
      ],
      "text/plain": [
       "     killType  killerId  multiKillLength  timestamp                   type  \\\n",
       "0  KILL_MULTI         5                2    1093179  CHAMPION_SPECIAL_KILL   \n",
       "\n",
       "   position.x  position.y  \n",
       "0       13513        3831  "
      ]
     },
     "metadata": {}
    },
    {
     "output_type": "stream",
     "name": "stdout",
     "text": [
      "type CHAMPION_KILL\n"
     ]
    },
    {
     "output_type": "display_data",
     "data": {
      "text/html": [
       "<div>\n",
       "<style scoped>\n",
       "    .dataframe tbody tr th:only-of-type {\n",
       "        vertical-align: middle;\n",
       "    }\n",
       "\n",
       "    .dataframe tbody tr th {\n",
       "        vertical-align: top;\n",
       "    }\n",
       "\n",
       "    .dataframe thead th {\n",
       "        text-align: right;\n",
       "    }\n",
       "</style>\n",
       "<table border=\"1\" class=\"dataframe\">\n",
       "  <thead>\n",
       "    <tr style=\"text-align: right;\">\n",
       "      <th></th>\n",
       "      <th>assistingParticipantIds</th>\n",
       "      <th>bounty</th>\n",
       "      <th>killStreakLength</th>\n",
       "      <th>killerId</th>\n",
       "      <th>timestamp</th>\n",
       "      <th>type</th>\n",
       "      <th>victimDamageDealt</th>\n",
       "      <th>victimDamageReceived</th>\n",
       "      <th>victimId</th>\n",
       "      <th>position.x</th>\n",
       "      <th>position.y</th>\n",
       "    </tr>\n",
       "  </thead>\n",
       "  <tbody>\n",
       "    <tr>\n",
       "      <th>0</th>\n",
       "      <td>[1, 3]</td>\n",
       "      <td>300</td>\n",
       "      <td>0</td>\n",
       "      <td>2</td>\n",
       "      <td>1103289</td>\n",
       "      <td>CHAMPION_KILL</td>\n",
       "      <td>[{'basic': False, 'magicDamage': 0, 'name': 'K...</td>\n",
       "      <td>[{'basic': False, 'magicDamage': 95, 'name': '...</td>\n",
       "      <td>7</td>\n",
       "      <td>11748</td>\n",
       "      <td>5981</td>\n",
       "    </tr>\n",
       "  </tbody>\n",
       "</table>\n",
       "</div>"
      ],
      "text/plain": [
       "  assistingParticipantIds  bounty  killStreakLength  killerId  timestamp  \\\n",
       "0                  [1, 3]     300                 0         2    1103289   \n",
       "\n",
       "            type                                  victimDamageDealt  \\\n",
       "0  CHAMPION_KILL  [{'basic': False, 'magicDamage': 0, 'name': 'K...   \n",
       "\n",
       "                                victimDamageReceived  victimId  position.x  \\\n",
       "0  [{'basic': False, 'magicDamage': 95, 'name': '...         7       11748   \n",
       "\n",
       "   position.y  \n",
       "0        5981  "
      ]
     },
     "metadata": {}
    },
    {
     "output_type": "stream",
     "name": "stdout",
     "text": [
      "type WARD_KILL\n"
     ]
    },
    {
     "output_type": "display_data",
     "data": {
      "text/html": [
       "<div>\n",
       "<style scoped>\n",
       "    .dataframe tbody tr th:only-of-type {\n",
       "        vertical-align: middle;\n",
       "    }\n",
       "\n",
       "    .dataframe tbody tr th {\n",
       "        vertical-align: top;\n",
       "    }\n",
       "\n",
       "    .dataframe thead th {\n",
       "        text-align: right;\n",
       "    }\n",
       "</style>\n",
       "<table border=\"1\" class=\"dataframe\">\n",
       "  <thead>\n",
       "    <tr style=\"text-align: right;\">\n",
       "      <th></th>\n",
       "      <th>killerId</th>\n",
       "      <th>timestamp</th>\n",
       "      <th>type</th>\n",
       "      <th>wardType</th>\n",
       "    </tr>\n",
       "  </thead>\n",
       "  <tbody>\n",
       "    <tr>\n",
       "      <th>0</th>\n",
       "      <td>3</td>\n",
       "      <td>1106660</td>\n",
       "      <td>WARD_KILL</td>\n",
       "      <td>CONTROL_WARD</td>\n",
       "    </tr>\n",
       "  </tbody>\n",
       "</table>\n",
       "</div>"
      ],
      "text/plain": [
       "   killerId  timestamp       type      wardType\n",
       "0         3    1106660  WARD_KILL  CONTROL_WARD"
      ]
     },
     "metadata": {}
    },
    {
     "output_type": "stream",
     "name": "stdout",
     "text": [
      "type CHAMPION_KILL\n"
     ]
    },
    {
     "output_type": "display_data",
     "data": {
      "text/html": [
       "<div>\n",
       "<style scoped>\n",
       "    .dataframe tbody tr th:only-of-type {\n",
       "        vertical-align: middle;\n",
       "    }\n",
       "\n",
       "    .dataframe tbody tr th {\n",
       "        vertical-align: top;\n",
       "    }\n",
       "\n",
       "    .dataframe thead th {\n",
       "        text-align: right;\n",
       "    }\n",
       "</style>\n",
       "<table border=\"1\" class=\"dataframe\">\n",
       "  <thead>\n",
       "    <tr style=\"text-align: right;\">\n",
       "      <th></th>\n",
       "      <th>bounty</th>\n",
       "      <th>killStreakLength</th>\n",
       "      <th>killerId</th>\n",
       "      <th>timestamp</th>\n",
       "      <th>type</th>\n",
       "      <th>victimDamageDealt</th>\n",
       "      <th>victimDamageReceived</th>\n",
       "      <th>victimId</th>\n",
       "      <th>position.x</th>\n",
       "      <th>position.y</th>\n",
       "    </tr>\n",
       "  </thead>\n",
       "  <tbody>\n",
       "    <tr>\n",
       "      <th>0</th>\n",
       "      <td>300</td>\n",
       "      <td>4</td>\n",
       "      <td>5</td>\n",
       "      <td>1107716</td>\n",
       "      <td>CHAMPION_KILL</td>\n",
       "      <td>[{'basic': False, 'magicDamage': 0, 'name': 'Z...</td>\n",
       "      <td>[{'basic': False, 'magicDamage': 0, 'name': 'M...</td>\n",
       "      <td>9</td>\n",
       "      <td>13345</td>\n",
       "      <td>5172</td>\n",
       "    </tr>\n",
       "  </tbody>\n",
       "</table>\n",
       "</div>"
      ],
      "text/plain": [
       "   bounty  killStreakLength  killerId  timestamp           type  \\\n",
       "0     300                 4         5    1107716  CHAMPION_KILL   \n",
       "\n",
       "                                   victimDamageDealt  \\\n",
       "0  [{'basic': False, 'magicDamage': 0, 'name': 'Z...   \n",
       "\n",
       "                                victimDamageReceived  victimId  position.x  \\\n",
       "0  [{'basic': False, 'magicDamage': 0, 'name': 'M...         9       13345   \n",
       "\n",
       "   position.y  \n",
       "0        5172  "
      ]
     },
     "metadata": {}
    },
    {
     "output_type": "stream",
     "name": "stdout",
     "text": [
      "type BUILDING_KILL\n"
     ]
    },
    {
     "output_type": "display_data",
     "data": {
      "text/html": [
       "<div>\n",
       "<style scoped>\n",
       "    .dataframe tbody tr th:only-of-type {\n",
       "        vertical-align: middle;\n",
       "    }\n",
       "\n",
       "    .dataframe tbody tr th {\n",
       "        vertical-align: top;\n",
       "    }\n",
       "\n",
       "    .dataframe thead th {\n",
       "        text-align: right;\n",
       "    }\n",
       "</style>\n",
       "<table border=\"1\" class=\"dataframe\">\n",
       "  <thead>\n",
       "    <tr style=\"text-align: right;\">\n",
       "      <th></th>\n",
       "      <th>buildingType</th>\n",
       "      <th>killerId</th>\n",
       "      <th>laneType</th>\n",
       "      <th>teamId</th>\n",
       "      <th>timestamp</th>\n",
       "      <th>towerType</th>\n",
       "      <th>type</th>\n",
       "      <th>position.x</th>\n",
       "      <th>position.y</th>\n",
       "    </tr>\n",
       "  </thead>\n",
       "  <tbody>\n",
       "    <tr>\n",
       "      <th>0</th>\n",
       "      <td>TOWER_BUILDING</td>\n",
       "      <td>5</td>\n",
       "      <td>BOT_LANE</td>\n",
       "      <td>200</td>\n",
       "      <td>1113861</td>\n",
       "      <td>OUTER_TURRET</td>\n",
       "      <td>BUILDING_KILL</td>\n",
       "      <td>13866</td>\n",
       "      <td>4505</td>\n",
       "    </tr>\n",
       "  </tbody>\n",
       "</table>\n",
       "</div>"
      ],
      "text/plain": [
       "     buildingType  killerId  laneType  teamId  timestamp     towerType  \\\n",
       "0  TOWER_BUILDING         5  BOT_LANE     200    1113861  OUTER_TURRET   \n",
       "\n",
       "            type  position.x  position.y  \n",
       "0  BUILDING_KILL       13866        4505  "
      ]
     },
     "metadata": {}
    },
    {
     "output_type": "stream",
     "name": "stdout",
     "text": [
      "type BUILDING_KILL\n"
     ]
    },
    {
     "output_type": "display_data",
     "data": {
      "text/html": [
       "<div>\n",
       "<style scoped>\n",
       "    .dataframe tbody tr th:only-of-type {\n",
       "        vertical-align: middle;\n",
       "    }\n",
       "\n",
       "    .dataframe tbody tr th {\n",
       "        vertical-align: top;\n",
       "    }\n",
       "\n",
       "    .dataframe thead th {\n",
       "        text-align: right;\n",
       "    }\n",
       "</style>\n",
       "<table border=\"1\" class=\"dataframe\">\n",
       "  <thead>\n",
       "    <tr style=\"text-align: right;\">\n",
       "      <th></th>\n",
       "      <th>buildingType</th>\n",
       "      <th>killerId</th>\n",
       "      <th>laneType</th>\n",
       "      <th>teamId</th>\n",
       "      <th>timestamp</th>\n",
       "      <th>towerType</th>\n",
       "      <th>type</th>\n",
       "      <th>position.x</th>\n",
       "      <th>position.y</th>\n",
       "    </tr>\n",
       "  </thead>\n",
       "  <tbody>\n",
       "    <tr>\n",
       "      <th>0</th>\n",
       "      <td>TOWER_BUILDING</td>\n",
       "      <td>2</td>\n",
       "      <td>MID_LANE</td>\n",
       "      <td>200</td>\n",
       "      <td>1136763</td>\n",
       "      <td>OUTER_TURRET</td>\n",
       "      <td>BUILDING_KILL</td>\n",
       "      <td>8955</td>\n",
       "      <td>8510</td>\n",
       "    </tr>\n",
       "  </tbody>\n",
       "</table>\n",
       "</div>"
      ],
      "text/plain": [
       "     buildingType  killerId  laneType  teamId  timestamp     towerType  \\\n",
       "0  TOWER_BUILDING         2  MID_LANE     200    1136763  OUTER_TURRET   \n",
       "\n",
       "            type  position.x  position.y  \n",
       "0  BUILDING_KILL        8955        8510  "
      ]
     },
     "metadata": {}
    }
   ],
   "metadata": {}
  },
  {
   "cell_type": "code",
   "execution_count": 297,
   "source": [
    "plt.figure(figsize=(15,7))\n",
    "plt.title(\"Team gold gap\")\n",
    "plt.xlabel('time(minute)', fontsize=12)\n",
    "plt.ylabel('gold gap', fontsize=12)\n",
    "g = sns.barplot(x=np.arange(match_time_length), y=team_total_gold_blue-team_total_gold_red, label=\"blue team gold - red team gold\")\n",
    "plt.xticks(np.arange(0, match_time_length+2, step=1), fontsize=12)\n",
    "plt.yticks(np.arange(-10000, 10000, step=1000), fontsize=12)\n",
    "plt.ylim(team_total_gold_gap.min()-500, team_total_gold_gap.max()+500)\n",
    "plt.axhline(y=0, color=\"k\")\n",
    "\n",
    "for i in range(match_time_length):\n",
    "    p = g.patches[i]\n",
    "    g.annotate(\"%.0f\"%p.get_height(), (p.get_x() + p.get_width()/2., p.get_height()), \n",
    "        ha='center', va='center', fontsize=8, color='k', xytext=(0, 10 if team_total_gold_gap[i] > 0 else -10), \n",
    "        textcoords='offset points')\n",
    "\n",
    "sns.barplot(data=df_diff, x=np.arange(1,match_time_length), y=\"diff\", color=\"r\", alpha=0.3)\n",
    "for i in df_diff[abs(df_diff[\"diff\"]) >= 1000].index:   # 1000골드 이상의 차이가 발생했을 때를 표시\n",
    "    plt.axvline(x=i)"
   ],
   "outputs": [
    {
     "output_type": "display_data",
     "data": {
      "image/png": "[encoded data removed]",
      "text/plain": [
       "<Figure size 1080x504 with 1 Axes>"
      ]
     },
     "metadata": {
      "needs_background": "light"
     }
    }
   ],
   "metadata": {}
  }
 ],
 "metadata": {
  "orig_nbformat": 4,
  "language_info": {
   "name": "python",
   "version": "3.9.5",
   "mimetype": "text/x-python",
   "codemirror_mode": {
    "name": "ipython",
    "version": 3
   },
   "pygments_lexer": "ipython3",
   "nbconvert_exporter": "python",
   "file_extension": ".py"
  },
  "kernelspec": {
   "name": "python3",
   "display_name": "Python 3.9.5 64-bit"
  },
  "interpreter": {
   "hash": "31f2aee4e71d21fbe5cf8b01ff0e069b9275f58929596ceb00d14d90e3e16cd6"
  }
 },
 "nbformat": 4,
 "nbformat_minor": 2
}