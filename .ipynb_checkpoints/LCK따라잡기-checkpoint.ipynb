{
 "cells": [
  {
   "cell_type": "markdown",
   "metadata": {},
   "source": [
    "# 데이터 가공\n",
    "경기 데이터를 분석하기 용이하게끔 약간의 수정 및 처리를 가하여줍니다."
   ]
  },
  {
   "cell_type": "markdown",
   "metadata": {},
   "source": [
    "## 라이브러리 불러오기\n",
    "- 자료 분석을 위하여 numpy, pandas 라이브러리를 사용합니다.\n",
    "- json 파일을 읽어오기 위하여 json 라이브러리를 사용합니다."
   ]
  },
  {
   "cell_type": "code",
   "execution_count": 2,
   "metadata": {},
   "outputs": [],
   "source": [
    "import numpy as np\n",
    "import pandas as pd\n",
    "import json"
   ]
  },
  {
   "cell_type": "markdown",
   "metadata": {},
   "source": [
    "## 경기 데이터 가공하기\n",
    "경기 데이터를 읽어와 필요 없는 부분은 자르고 양이 많은 부분은 따로 저장해줍니다."
   ]
  },
  {
   "cell_type": "code",
   "execution_count": 3,
   "metadata": {},
   "outputs": [],
   "source": [
    "with open(\"data/data_summoner_match_data_야식은치킨이지.json\", 'r') as file:\n",
    "    match_json_data = json.load(file)\n",
    "\n",
    "# 원 데이터를 평면화하여 데이터프레임으로 저장합니다. (원 데이터는 match_json_data에 남아 있습니다.)\n",
    "df = pd.json_normalize(match_json_data)\n",
    "\n",
    "# 경기의 meta 데이터 중 matchId와 participants(puuid)의 정보를 담은 df_meta라는 변수를 만들어줍니다.\n",
    "df_meta = df.iloc[:, 1:3]\n",
    "df_meta.columns = ['matchId', 'participants']\n",
    "\n",
    "# 남은 경기 데이터 정보를 담은 df_info라는 변수를 만들어줍니다.\n",
    "df_info = df.iloc[:, 3:]\n",
    "df_info.columns = match_json_data[0]['info'].keys()\n",
    "\n",
    "# 가져온 경기의 총 횟수를 따로 저장해줍니다.\n",
    "match_length = len(match_json_data)\n",
    "\n",
    "# df_info에 담긴 데이터 중 상당한 부분을 차지하는 teams 변수 부분을 따로 빼내어 저장해줍니다.\n",
    "arr_teams = df_info.pop('teams')\n",
    "df_teams = pd.concat([pd.json_normalize(arr_teams[x]) for x in range(match_length)])\n",
    "df_teams.index = range(match_length*2)\n",
    "\n",
    "# df_info에 담긴 데이터 중 상당한 부분을 차지하는 participants 변수 부분을 따로 빼내어 저장해줍니다.\n",
    "arr_participants = df_info.pop('participants')\n",
    "df_participants = pd.concat([pd.json_normalize(arr_participants[x]) for x in range(match_length)])\n",
    "df_participants.index = range(match_length*10)"
   ]
  },
  {
   "cell_type": "markdown",
   "metadata": {},
   "source": [
    "## 분석하고자 하는 소환사의 puuid 알아내기"
   ]
  },
  {
   "cell_type": "code",
   "execution_count": 4,
   "metadata": {},
   "outputs": [
    {
     "data": {
      "text/plain": [
       "'rloB_NxGn8Lyi7tAdxrzRxlN9F7ohuDouptz8KV3Mlk2Epd-qnckbDLlIAnX7ABWVt4SG42M2ca5gw'"
      ]
     },
     "execution_count": 4,
     "metadata": {},
     "output_type": "execute_result"
    }
   ],
   "source": [
    "# summoner 데이터 파일에는 소환사의 id, accountId, puuid 등의 값들이 저장되어있습니다.\n",
    "with open(\"data/data_summoner_야식은치킨이지.json\", 'r') as file:\n",
    "    summoner_puuid = json.load(file)[\"puuid\"]    \n",
    "summoner_puuid"
   ]
  },
  {
   "cell_type": "markdown",
   "metadata": {},
   "source": [
    "## 경기 데이터에서 소환사의 index 알아내기\n",
    "경기 데이터는 많은 양의 값이 순서가 규칙성을 띄며 섞여 있습니다. 따라서 원하는 데이터를 얻어오기 위해선 소환사의 데이터가 무엇인지 분류해낼 수 있어야 하며, 앞에서 구한 puuid를 통해 알 수 있습니다."
   ]
  },
  {
   "cell_type": "code",
   "execution_count": 5,
   "metadata": {},
   "outputs": [
    {
     "data": {
      "text/html": [
       "<div>\n",
       "<style scoped>\n",
       "    .dataframe tbody tr th:only-of-type {\n",
       "        vertical-align: middle;\n",
       "    }\n",
       "\n",
       "    .dataframe tbody tr th {\n",
       "        vertical-align: top;\n",
       "    }\n",
       "\n",
       "    .dataframe thead th {\n",
       "        text-align: right;\n",
       "    }\n",
       "</style>\n",
       "<table border=\"1\" class=\"dataframe\">\n",
       "  <thead>\n",
       "    <tr style=\"text-align: right;\">\n",
       "      <th></th>\n",
       "      <th>matchId</th>\n",
       "      <th>participants</th>\n",
       "      <th>summonerIndex</th>\n",
       "    </tr>\n",
       "  </thead>\n",
       "  <tbody>\n",
       "    <tr>\n",
       "      <th>0</th>\n",
       "      <td>KR_5383029593</td>\n",
       "      <td>[_-0Xyk-14U-wYGaw3wjoflpZQumQL4ucbCWNMCP7oylV0...</td>\n",
       "      <td>6</td>\n",
       "    </tr>\n",
       "    <tr>\n",
       "      <th>1</th>\n",
       "      <td>KR_5383081525</td>\n",
       "      <td>[fnIqdrkSIgTXVDwwF56NqJnMkdhyX_d4AncrJhsEnzptM...</td>\n",
       "      <td>5</td>\n",
       "    </tr>\n",
       "    <tr>\n",
       "      <th>2</th>\n",
       "      <td>KR_5382976870</td>\n",
       "      <td>[rloB_NxGn8Lyi7tAdxrzRxlN9F7ohuDouptz8KV3Mlk2E...</td>\n",
       "      <td>0</td>\n",
       "    </tr>\n",
       "    <tr>\n",
       "      <th>3</th>\n",
       "      <td>KR_5382817808</td>\n",
       "      <td>[r4xI-xms6dhwW33Pa0Ci4eyp8zPumTTe3uuxpsQJuggw3...</td>\n",
       "      <td>3</td>\n",
       "    </tr>\n",
       "    <tr>\n",
       "      <th>4</th>\n",
       "      <td>KR_5382882767</td>\n",
       "      <td>[nUEvQyRsfBZGM-ccusJ2-fnXWxnD3IqWi5jfdqHMYmnbY...</td>\n",
       "      <td>5</td>\n",
       "    </tr>\n",
       "  </tbody>\n",
       "</table>\n",
       "</div>"
      ],
      "text/plain": [
       "         matchId                                       participants  \\\n",
       "0  KR_5383029593  [_-0Xyk-14U-wYGaw3wjoflpZQumQL4ucbCWNMCP7oylV0...   \n",
       "1  KR_5383081525  [fnIqdrkSIgTXVDwwF56NqJnMkdhyX_d4AncrJhsEnzptM...   \n",
       "2  KR_5382976870  [rloB_NxGn8Lyi7tAdxrzRxlN9F7ohuDouptz8KV3Mlk2E...   \n",
       "3  KR_5382817808  [r4xI-xms6dhwW33Pa0Ci4eyp8zPumTTe3uuxpsQJuggw3...   \n",
       "4  KR_5382882767  [nUEvQyRsfBZGM-ccusJ2-fnXWxnD3IqWi5jfdqHMYmnbY...   \n",
       "\n",
       "   summonerIndex  \n",
       "0              6  \n",
       "1              5  \n",
       "2              0  \n",
       "3              3  \n",
       "4              5  "
      ]
     },
     "execution_count": 5,
     "metadata": {},
     "output_type": "execute_result"
    }
   ],
   "source": [
    "df_meta['summonerIndex'] = df_meta.participants.map(lambda participants : participants.index(summoner_puuid))\n",
    "df_meta.head()"
   ]
  },
  {
   "cell_type": "markdown",
   "metadata": {},
   "source": [
    "## 경기의 시간별 데이터 가져오기 (timeline)\n",
    "### 데이터의 흐름\n",
    "- match_length 길이의 타임라인 데이터\n",
    "    - metadata \n",
    "        - dataVersion\n",
    "        - matchId\n",
    "        - participants (puuid)\n",
    "    - info\n",
    "        - frameInterval\n",
    "        - frames\n",
    "            - [시간, 0 ~ 게임 종료 시간(frameInterval이 60 * 1000 이니까 분 단위라고 추측할 수 있음)]\n",
    "                - event (발생한 이벤트에 대한 정보)\n",
    "                    - {공통된 정보}\n",
    "                        - participantsId\n",
    "                        - timestamp\n",
    "                        - type\n",
    "                    - {type에 따라 주어지는 추가적인 정보}\n",
    "                        - itemId\n",
    "                        - killerId\n",
    "                        - position\n",
    "                        - ...\n",
    "                - participantFrames (현 시점에 경기 참가자에 대한 정보)\n",
    "                    - championStats = { ... }\n",
    "                    - damageStats = { ... }\n",
    "                    - currentGold\n",
    "                    - position\n",
    "                    - minionKilled\n",
    "                    - ..."
   ]
  },
  {
   "cell_type": "code",
   "execution_count": 6,
   "metadata": {},
   "outputs": [],
   "source": [
    "with open(\"data/data_summoner_match_timeline_data_야식은치킨이지.json\", \"r\") as file:\n",
    "    json_data = json.load(file)\n",
    "\n",
    "# 타임라인 데이터는 굉장히 복잡하기때문에 평면화를 바로 시켜주는 대신 객체를 먼저 meta 데이터와 info 데이터로 나누어줍니다.\n",
    "tl_meta = [match[\"metadata\"] for match in json_data]\n",
    "df_tl_meta = pd.json_normalize(tl_meta)                     # 비교적 단순한 meta 데이터는 바로 데이터프레임으로 만들어줍니다.\n",
    "tl_info = [match[\"info\"][\"frames\"] for match in json_data]  \n",
    "frame_interval = 60000                                      # maybe 60 * 1000 milliseconds\n"
   ]
  },
  {
   "cell_type": "markdown",
   "metadata": {},
   "source": [
    "# LCK 따라잡기\n",
    "## to-do\n",
    "- KDA\n",
    "- DPM (분당 데미지)\n",
    "- DMG% (팀 내 데미지 비율)\n",
    "- DMG/GOLD (골드 당 데미지)\n",
    "- CSD@15 (15분 CS 차이)\n",
    "- GD@15 (15분 골드 차이)\n",
    "- JP-D (정글러 관여율 차이)\n",
    "+ DMG@END, DMG@15\n",
    "+ 주라인에 따른 위의 통계량\n"
   ]
  },
  {
   "cell_type": "markdown",
   "metadata": {},
   "source": [
    "## KDA 구하기"
   ]
  },
  {
   "cell_type": "code",
   "execution_count": 7,
   "metadata": {},
   "outputs": [
    {
     "data": {
      "text/html": [
       "<div>\n",
       "<style scoped>\n",
       "    .dataframe tbody tr th:only-of-type {\n",
       "        vertical-align: middle;\n",
       "    }\n",
       "\n",
       "    .dataframe tbody tr th {\n",
       "        vertical-align: top;\n",
       "    }\n",
       "\n",
       "    .dataframe thead th {\n",
       "        text-align: right;\n",
       "    }\n",
       "</style>\n",
       "<table border=\"1\" class=\"dataframe\">\n",
       "  <thead>\n",
       "    <tr style=\"text-align: right;\">\n",
       "      <th></th>\n",
       "      <th>kills</th>\n",
       "      <th>deaths</th>\n",
       "      <th>assists</th>\n",
       "    </tr>\n",
       "  </thead>\n",
       "  <tbody>\n",
       "    <tr>\n",
       "      <th>mean</th>\n",
       "      <td>5.180000</td>\n",
       "      <td>6.310000</td>\n",
       "      <td>12.510000</td>\n",
       "    </tr>\n",
       "    <tr>\n",
       "      <th>std</th>\n",
       "      <td>3.870061</td>\n",
       "      <td>3.526795</td>\n",
       "      <td>9.564766</td>\n",
       "    </tr>\n",
       "    <tr>\n",
       "      <th>min</th>\n",
       "      <td>0.000000</td>\n",
       "      <td>0.000000</td>\n",
       "      <td>0.000000</td>\n",
       "    </tr>\n",
       "    <tr>\n",
       "      <th>25%</th>\n",
       "      <td>2.750000</td>\n",
       "      <td>3.000000</td>\n",
       "      <td>4.000000</td>\n",
       "    </tr>\n",
       "    <tr>\n",
       "      <th>50%</th>\n",
       "      <td>4.000000</td>\n",
       "      <td>7.000000</td>\n",
       "      <td>9.500000</td>\n",
       "    </tr>\n",
       "    <tr>\n",
       "      <th>75%</th>\n",
       "      <td>7.000000</td>\n",
       "      <td>9.000000</td>\n",
       "      <td>20.000000</td>\n",
       "    </tr>\n",
       "    <tr>\n",
       "      <th>max</th>\n",
       "      <td>23.000000</td>\n",
       "      <td>14.000000</td>\n",
       "      <td>33.000000</td>\n",
       "    </tr>\n",
       "  </tbody>\n",
       "</table>\n",
       "</div>"
      ],
      "text/plain": [
       "          kills     deaths    assists\n",
       "mean   5.180000   6.310000  12.510000\n",
       "std    3.870061   3.526795   9.564766\n",
       "min    0.000000   0.000000   0.000000\n",
       "25%    2.750000   3.000000   4.000000\n",
       "50%    4.000000   7.000000   9.500000\n",
       "75%    7.000000   9.000000  20.000000\n",
       "max   23.000000  14.000000  33.000000"
      ]
     },
     "metadata": {},
     "output_type": "display_data"
    },
    {
     "data": {
      "text/html": [
       "<div>\n",
       "<style scoped>\n",
       "    .dataframe tbody tr th:only-of-type {\n",
       "        vertical-align: middle;\n",
       "    }\n",
       "\n",
       "    .dataframe tbody tr th {\n",
       "        vertical-align: top;\n",
       "    }\n",
       "\n",
       "    .dataframe thead th {\n",
       "        text-align: right;\n",
       "    }\n",
       "</style>\n",
       "<table border=\"1\" class=\"dataframe\">\n",
       "  <thead>\n",
       "    <tr style=\"text-align: right;\">\n",
       "      <th></th>\n",
       "      <th>win</th>\n",
       "      <th>kills</th>\n",
       "      <th>deaths</th>\n",
       "      <th>assists</th>\n",
       "      <th>kda</th>\n",
       "    </tr>\n",
       "    <tr>\n",
       "      <th>win</th>\n",
       "      <th></th>\n",
       "      <th></th>\n",
       "      <th></th>\n",
       "      <th></th>\n",
       "      <th></th>\n",
       "    </tr>\n",
       "  </thead>\n",
       "  <tbody>\n",
       "    <tr>\n",
       "      <th>False</th>\n",
       "      <td>0.0</td>\n",
       "      <td>4.468085</td>\n",
       "      <td>7.446809</td>\n",
       "      <td>8.723404</td>\n",
       "      <td>1.875234</td>\n",
       "    </tr>\n",
       "    <tr>\n",
       "      <th>True</th>\n",
       "      <td>1.0</td>\n",
       "      <td>5.811321</td>\n",
       "      <td>5.301887</td>\n",
       "      <td>15.867925</td>\n",
       "      <td>4.989877</td>\n",
       "    </tr>\n",
       "  </tbody>\n",
       "</table>\n",
       "</div>"
      ],
      "text/plain": [
       "       win     kills    deaths    assists       kda\n",
       "win                                                \n",
       "False  0.0  4.468085  7.446809   8.723404  1.875234\n",
       "True   1.0  5.811321  5.301887  15.867925  4.989877"
      ]
     },
     "metadata": {},
     "output_type": "display_data"
    }
   ],
   "source": [
    "# data 변수는 그 때 그 때 사용하는 데이터를 담는 변수입니다.\n",
    "data = df_participants[df_participants.puuid == summoner_puuid].reset_index()   # 경기 참가자 중 소환사의 데이터를 찾아 따로 저장합니다.\n",
    "display(data[[\"kills\", \"deaths\", \"assists\"]].describe().iloc[1:])               # count index는 제외합니다.\n",
    "\n",
    "# kda 구하기\n",
    "kda = (data[\"kills\"]+data[\"assists\"])/data[\"deaths\"]\n",
    "kda.name = \"kda\"\n",
    "kda[data[\"deaths\"]==0] = -1                                                     # perfect score = -1\n",
    "\n",
    "# 구한 데이터는 따로 저장하여 이후 활용하도록 하겠습니다.\n",
    "data_kda = pd.concat([data[[\"win\", \"kills\", \"deaths\", \"assists\"]], kda], axis=1)\n",
    "display(data_kda.groupby(['win']).apply(lambda df: df.mean()))"
   ]
  },
  {
   "cell_type": "markdown",
   "metadata": {},
   "source": [
    "## DPM 구하기"
   ]
  },
  {
   "cell_type": "code",
   "execution_count": 8,
   "metadata": {},
   "outputs": [
    {
     "data": {
      "text/html": [
       "<div>\n",
       "<style scoped>\n",
       "    .dataframe tbody tr th:only-of-type {\n",
       "        vertical-align: middle;\n",
       "    }\n",
       "\n",
       "    .dataframe tbody tr th {\n",
       "        vertical-align: top;\n",
       "    }\n",
       "\n",
       "    .dataframe thead th {\n",
       "        text-align: right;\n",
       "    }\n",
       "</style>\n",
       "<table border=\"1\" class=\"dataframe\">\n",
       "  <thead>\n",
       "    <tr style=\"text-align: right;\">\n",
       "      <th></th>\n",
       "      <th>dpm_all</th>\n",
       "      <th>dpm_to_champions</th>\n",
       "    </tr>\n",
       "  </thead>\n",
       "  <tbody>\n",
       "    <tr>\n",
       "      <th>0</th>\n",
       "      <td>2541.532004</td>\n",
       "      <td>843.525708</td>\n",
       "    </tr>\n",
       "    <tr>\n",
       "      <th>1</th>\n",
       "      <td>3749.178295</td>\n",
       "      <td>591.689922</td>\n",
       "    </tr>\n",
       "    <tr>\n",
       "      <th>2</th>\n",
       "      <td>2797.524116</td>\n",
       "      <td>573.231511</td>\n",
       "    </tr>\n",
       "    <tr>\n",
       "      <th>3</th>\n",
       "      <td>5493.585237</td>\n",
       "      <td>620.272408</td>\n",
       "    </tr>\n",
       "    <tr>\n",
       "      <th>4</th>\n",
       "      <td>3980.109170</td>\n",
       "      <td>690.327511</td>\n",
       "    </tr>\n",
       "  </tbody>\n",
       "</table>\n",
       "</div>"
      ],
      "text/plain": [
       "       dpm_all  dpm_to_champions\n",
       "0  2541.532004        843.525708\n",
       "1  3749.178295        591.689922\n",
       "2  2797.524116        573.231511\n",
       "3  5493.585237        620.272408\n",
       "4  3980.109170        690.327511"
      ]
     },
     "metadata": {},
     "output_type": "display_data"
    }
   ],
   "source": [
    "### DPM\n",
    "minute_played = data.timePlayed/60      # data.timePlayed 의 단위는 '초'입니다.\n",
    "\n",
    "# 포탑, 미니언, 중립몬스터, 챔피언 등 모두에게 넣은 데미지와 챔피언에게만 넣은 데미지는 구분되어있습니다.\n",
    "dpm_all = (data.totalDamageDealt/minute_played)\n",
    "dpm_to_champions = data.totalDamageDealtToChampions/minute_played\n",
    "\n",
    "dpm = pd.concat([dpm_all, dpm_to_champions], axis=1, keys=[\"dpm_all\", \"dpm_to_champions\"])\n",
    "display(dpm.head())\n",
    "\n",
    "data_dpm = dpm\n",
    "# additional|\n",
    "# display(data.totalTimeSpentDead.describe()/60)\n",
    "# display(data_kda.describe())\n",
    "# display(data.totalMinionsKilled.describe())"
   ]
  },
  {
   "cell_type": "markdown",
   "metadata": {},
   "source": [
    "## DMG% 구하기"
   ]
  },
  {
   "cell_type": "code",
   "execution_count": 9,
   "metadata": {},
   "outputs": [
    {
     "data": {
      "text/plain": [
       "0    0.098180\n",
       "1    0.101546\n",
       "2    0.101423\n",
       "3    0.093030\n",
       "4    0.192651\n",
       "Name: dmg_percent, dtype: float64"
      ]
     },
     "execution_count": 9,
     "metadata": {},
     "output_type": "execute_result"
    }
   ],
   "source": [
    "list_dmg_per = []\n",
    "for i in range(match_length):\n",
    "    dmg_team = 0\n",
    "    dmg_me = 0\n",
    "    for j in range(10):\n",
    "        if (df_participants.iloc[i*10 + j].puuid == summoner_puuid):\n",
    "            dmg_me = dmg_me + df_participants.iloc[i*10 + j].totalDamageDealtToChampions\n",
    "        dmg_team = dmg_team + df_participants.iloc[i*10 + j].totalDamageDealtToChampions\n",
    "    dmg_per = dmg_me/dmg_team\n",
    "    list_dmg_per.append(dmg_per)\n",
    "\n",
    "data_dmg_per = pd.Series(list_dmg_per, name=\"dmg_percent\")\n",
    "data_dmg_per.head()"
   ]
  },
  {
   "cell_type": "markdown",
   "metadata": {},
   "source": [
    "## DMG/GOLD 구하기"
   ]
  },
  {
   "cell_type": "code",
   "execution_count": 10,
   "metadata": {},
   "outputs": [
    {
     "data": {
      "text/plain": [
       "0    1.301029\n",
       "1    1.580421\n",
       "2    1.593164\n",
       "3    1.479904\n",
       "4    1.852197\n",
       "Name: dmg_by_gold, dtype: float64"
      ]
     },
     "execution_count": 10,
     "metadata": {},
     "output_type": "execute_result"
    }
   ],
   "source": [
    "dmg = data.totalDamageDealtToChampions\n",
    "gold = data.goldEarned\n",
    "\n",
    "data_dmg_by_gold = dmg/gold\n",
    "data_dmg_by_gold.name = \"dmg_by_gold\"\n",
    "data_dmg_by_gold.head()"
   ]
  },
  {
   "cell_type": "markdown",
   "metadata": {},
   "source": [
    "## 포지션 정보 구하기\n",
    "- 라인을 알 수 없는 경우(Invalid)는 주로 칼바람이나 넥서스 파괴 모드 등 특별한 모드입니다\n",
    "- 언제나 lane 데이터와 individualPosition 데이터가 일치하는 것은 아닙니다\n",
    "    - individualPosition이 더 괜찮은 지표라고 판단하여 아래에서 사용하였습니다."
   ]
  },
  {
   "cell_type": "code",
   "execution_count": 11,
   "metadata": {},
   "outputs": [
    {
     "data": {
      "text/html": [
       "<div>\n",
       "<style scoped>\n",
       "    .dataframe tbody tr th:only-of-type {\n",
       "        vertical-align: middle;\n",
       "    }\n",
       "\n",
       "    .dataframe tbody tr th {\n",
       "        vertical-align: top;\n",
       "    }\n",
       "\n",
       "    .dataframe thead th {\n",
       "        text-align: right;\n",
       "    }\n",
       "</style>\n",
       "<table border=\"1\" class=\"dataframe\">\n",
       "  <thead>\n",
       "    <tr style=\"text-align: right;\">\n",
       "      <th></th>\n",
       "      <th>lane</th>\n",
       "      <th>individualPosition</th>\n",
       "    </tr>\n",
       "  </thead>\n",
       "  <tbody>\n",
       "    <tr>\n",
       "      <th>0</th>\n",
       "      <td>NONE</td>\n",
       "      <td>Invalid</td>\n",
       "    </tr>\n",
       "    <tr>\n",
       "      <th>1</th>\n",
       "      <td>TOP</td>\n",
       "      <td>TOP</td>\n",
       "    </tr>\n",
       "    <tr>\n",
       "      <th>2</th>\n",
       "      <td>BOTTOM</td>\n",
       "      <td>BOTTOM</td>\n",
       "    </tr>\n",
       "    <tr>\n",
       "      <th>3</th>\n",
       "      <td>BOTTOM</td>\n",
       "      <td>BOTTOM</td>\n",
       "    </tr>\n",
       "    <tr>\n",
       "      <th>4</th>\n",
       "      <td>NONE</td>\n",
       "      <td>TOP</td>\n",
       "    </tr>\n",
       "  </tbody>\n",
       "</table>\n",
       "</div>"
      ],
      "text/plain": [
       "     lane individualPosition\n",
       "0    NONE            Invalid\n",
       "1     TOP                TOP\n",
       "2  BOTTOM             BOTTOM\n",
       "3  BOTTOM             BOTTOM\n",
       "4    NONE                TOP"
      ]
     },
     "execution_count": 11,
     "metadata": {},
     "output_type": "execute_result"
    }
   ],
   "source": [
    "data_position = pd.concat([data.lane, data.individualPosition], axis=1)\n",
    "data_position.head()"
   ]
  },
  {
   "cell_type": "markdown",
   "metadata": {},
   "source": [
    "## 맞라인 상대의 정보 구하기\n",
    "- CSD@15, GD@15, JP-D 같은 경우 팀 전체의 데이터보다 맞 상대와의 차이를 통해 구하는 것이 더 유의미하다고 판단하였습니다.\n",
    "    - e.g. 서포터의 골드 vs 황족 미드의 골드 = (무의미한 값)\n",
    "- 여기서부턴 dataframe 간의 연산이 아닌, 첫 번째 경기부터 차례차례 연산을 진행하였습니다.\n",
    "    - 처음은 하나의 경기를 고정하고 통계치를 구하고, 모든 값을 정상적으로 구했을 때 모든 경기에 대한 통계치를 구합니다."
   ]
  },
  {
   "cell_type": "markdown",
   "metadata": {},
   "source": [
    "### 맞라인 상대와 각 팀 정글러의 index 구하기"
   ]
  },
  {
   "cell_type": "code",
   "execution_count": 12,
   "metadata": {},
   "outputs": [],
   "source": [
    "match_index = 1     # 임시, 두 번째 경기를 분석하겠다는 의미입니다.\n",
    "\n",
    "# data 변수엔 본인의 데이터만 저장되어 있습니다.\n",
    "summoner_position = data.individualPosition[match_index]    # 소환사의 포지션을 확인합니다.\n",
    "if summoner_position == \"invalid\": exit() # continue        # 소환사의 포지션이 invalid 즉, 다른 모드의 케이스는 무시합니다.\n",
    "\n",
    "# 따라서 다른 소환사의 데이터를 다루기 위해 새로운 변수를 선언합니다.\n",
    "participant = df_participants.iloc[match_index*10: match_index*10+10].reset_index() # 해당 경기의 소환사들의 데이터를 불러옵니다.\n",
    "\n",
    "jungler_index = [-1, -1]    # [블루팀 정글러의 index, 레드팀 정글러의 index]\n",
    "for i in range(10):\n",
    "    # 각 팀 정글러의 index 구하기\n",
    "    if participant.individualPosition[i] == \"JUNGLE\":\n",
    "        if i < 5: jungler_index[0] = i\n",
    "        else: jungler_index[1] = i\n",
    "    # 내 index 구하기\n",
    "    if participant.puuid[i] == summoner_puuid: \n",
    "        summoner_index = i\n",
    "        if summoner_index < 5 : summoner_team = 0   # 0: blue / 1: red\n",
    "        else: summoner_team = 1                     # 본인 팀에 대한 지표로, 정글러의 index를 불러올 때 사용합니다. \n",
    "    # 맞라인 상대의 index 구하기\n",
    "    elif participant.individualPosition[i] == summoner_position:\n",
    "        rival = participant.iloc[i]\n",
    "        rival_index = i"
   ]
  },
  {
   "cell_type": "markdown",
   "metadata": {},
   "source": [
    "## CSD@15 (15분 CS 차이) 구하기"
   ]
  },
  {
   "cell_type": "code",
   "execution_count": 13,
   "metadata": {},
   "outputs": [
    {
     "name": "stdout",
     "output_type": "stream",
     "text": [
      "CSD@15 = 52\n"
     ]
    }
   ],
   "source": [
    "# 'match_index' 번째 경기의 tl_info로부터 't 분' 시점의 '참가자들의 데이터'를 가져옵니다.\n",
    "tl_participants_frames          = [tl_info[match_index][t][\"participantFrames\"] for t in range(len(tl_info[match_index]))]\n",
    "tl_15_participants_frames       = tl_participants_frames[15]  # 15분 데이터\n",
    "df_tl_15_participants_frames    = pd.json_normalize([tl_15_participants_frames[str(x+1)] for x in range(10)])\n",
    "\n",
    "csd = df_tl_15_participants_frames.minionsKilled[summoner_index] - df_tl_15_participants_frames.minionsKilled[rival_index]\n",
    "print(\"CSD@15 = %d\" % csd)"
   ]
  },
  {
   "cell_type": "markdown",
   "metadata": {},
   "source": [
    "## GD@15 (15분 GOLD 차이) 구하기"
   ]
  },
  {
   "cell_type": "code",
   "execution_count": 14,
   "metadata": {},
   "outputs": [
    {
     "name": "stdout",
     "output_type": "stream",
     "text": [
      "GD@15 = 1558\n"
     ]
    }
   ],
   "source": [
    "gd = df_tl_15_participants_frames.totalGold[summoner_index] - df_tl_15_participants_frames.totalGold[rival_index]\n",
    "print(\"GD@15 = %d\" % gd)"
   ]
  },
  {
   "cell_type": "markdown",
   "metadata": {},
   "source": [
    "## JP-D (정글러 관여율 차이) 구하기"
   ]
  },
  {
   "cell_type": "markdown",
   "metadata": {},
   "source": [
    "### 1. 킬 이벤트 가져오기"
   ]
  },
  {
   "cell_type": "code",
   "execution_count": 15,
   "metadata": {},
   "outputs": [],
   "source": [
    "# 'match_index' 번째 경기의 tl_info로부터 't 분' 시점의 '발생한 이벤트 목록'을 가져옵니다.\n",
    "tl_events = [tl_info[match_index][t][\"events\"] for t in range(len(tl_info[match_index]))]\n",
    "tl_kill_events = []\n",
    "for i in range(len(tl_events)):\n",
    "    for event in tl_events[i]:\n",
    "        if event[\"type\"] == \"CHAMPION_KILL\":\n",
    "            tl_kill_events.append(pd.json_normalize(event))\n",
    "            \n",
    "# 배열로부터 생성된 데이터프레임은 index를 다시 설정해주는 것이 좋습니다.\n",
    "df_kill_events = pd.concat(tl_kill_events).reset_index()    \n",
    "del df_kill_events['index']"
   ]
  },
  {
   "cell_type": "markdown",
   "metadata": {},
   "source": [
    "### 2. 정글러 정보 가져오기"
   ]
  },
  {
   "cell_type": "code",
   "execution_count": 18,
   "metadata": {},
   "outputs": [
    {
     "name": "stdout",
     "output_type": "stream",
     "text": [
      "6 , 7 / 4 , 5\n"
     ]
    }
   ],
   "source": [
    "# 주의! 타임라인 데이터에서의 참가자들의 index는 1부터 시작합니다. (앞서 다루었던 index는 전부 0~9 사이의 값)\n",
    "\n",
    "# 앞에서 구한 \"본인의 index, 본인 팀 정글의 index / 맞라인 상대의 index, 상대 팀 정글의 index\"를 출력해보았습니다.\n",
    "print(summoner_index+1, \",\", jungler_index[summoner_team]+1, \"/\", rival_index+1, \",\", jungler_index[summoner_team != 1]+1)\n",
    "\n",
    "# NaN 값 처리 - NaN 값의 위치에 빈 list를 넣어줍니다.\n",
    "d = df_kill_events\n",
    "d.assistingParticipantIds = [[] if x is np.NaN else x for x in d.assistingParticipantIds]   # is를 써야 하는 이유 : NaN 값은 언제나 다른 값이므로 객체를 비교해야합니다."
   ]
  },
  {
   "cell_type": "markdown",
   "metadata": {},
   "source": [
    "### 3. 원하는 이벤트 데이터를 찾을 수 있는 mask 만들기"
   ]
  },
  {
   "cell_type": "code",
   "execution_count": 20,
   "metadata": {},
   "outputs": [],
   "source": [
    "# mask 생성\n",
    "mask_summoner_kill = d.killerId == summoner_index+1\n",
    "mask_summoner_assist = d.assistingParticipantIds.map(lambda arr : summoner_index+1 in arr)\n",
    "mask_summoner_jungler_kill = d.killerId == jungler_index[summoner_team]+1\n",
    "mask_summoner_jungler_assist = d.assistingParticipantIds.map(lambda arr : jungler_index[summoner_team]+1 in arr)\n",
    "# print(mask_summoner_kill)\n",
    "# display(d[mask_summoner_jungler_assist & mask_summoner_kill])\n",
    "# display(d[mask_summoner_jungler_kill & mask_summoner_assist])\n",
    "# display(d[mask_summoner_kill | mask_summoner_assist])"
   ]
  },
  {
   "cell_type": "markdown",
   "metadata": {},
   "source": [
    "### 4. 정글러 관여율 구하기"
   ]
  },
  {
   "cell_type": "code",
   "execution_count": 23,
   "metadata": {},
   "outputs": [
    {
     "name": "stdout",
     "output_type": "stream",
     "text": [
      "JP-D = 0.50\n"
     ]
    }
   ],
   "source": [
    "# 정글러 관여율을 [(정글러의 어시, 나의 킬) + (나의 어시, 정글러의 킬)]/(나의 킬 + 나의 어시) 로 가정합니다.\n",
    "a = len(d[mask_summoner_kill & mask_summoner_jungler_assist]) + len(d[mask_summoner_assist & mask_summoner_jungler_kill])\n",
    "b = len(d[mask_summoner_assist + mask_summoner_kill])\n",
    "# print(a, b, a/b)\n",
    "print(\"JP-D = %.2f\" % (a/b))"
   ]
  },
  {
   "cell_type": "markdown",
   "metadata": {},
   "source": [
    "## 모든 경기에 대한 분석으로 확대하기\n",
    "모든 통계치를 문제없이 구했으므로 모든 경기에 대한 분석으로 확장시켜보겠습니다"
   ]
  },
  {
   "cell_type": "code",
   "execution_count": 28,
   "metadata": {},
   "outputs": [],
   "source": [
    "# 각 경기로부터의 통계치를 저장할 변수를 선언합니다.\n",
    "list_csd = []\n",
    "list_gd = []\n",
    "list_jp_d = []\n",
    "\n",
    "# 반복문을 활용하여 모든 경기에 대한 분석을 진행합니다.\n",
    "for match_index in range(match_length):\n",
    "    ### 맞라인 상대와 각 팀 정글러의 index 구하기 ###\n",
    "    summoner_position = data.individualPosition[match_index]    # 소환사의 포지션을 확인합니다.\n",
    "    if summoner_position == \"invalid\": continue                 # 소환사의 포지션이 invalid 즉, 다른 모드의 케이스는 무시합니다.\n",
    "\n",
    "    # 따라서 다른 소환사의 데이터를 다루기 위해 새로운 변수를 선언합니다.\n",
    "    participant = df_participants.iloc[match_index*10: match_index*10+10].reset_index() # 해당 경기의 소환사들의 데이터를 불러옵니다.\n",
    "\n",
    "    jungler_index = [-1, -1]    # [블루팀 정글러의 index, 레드팀 정글러의 index]\n",
    "    for i in range(10):\n",
    "        # 각 팀 정글러의 index 구하기\n",
    "        if participant.individualPosition[i] == \"JUNGLE\":\n",
    "            if i < 5: jungler_index[0] = i\n",
    "            else: jungler_index[1] = i\n",
    "        # 내 index 구하기\n",
    "        if participant.puuid[i] == summoner_puuid: \n",
    "            summoner_index = i\n",
    "            if summoner_index < 5 : summoner_team = 0   # 0: blue / 1: red\n",
    "            else: summoner_team = 1                     # 본인 팀에 대한 지표로, 정글러의 index를 불러올 때 사용합니다. \n",
    "        # 맞라인 상대의 index 구하기\n",
    "        elif participant.individualPosition[i] == summoner_position:\n",
    "            rival = participant.iloc[i]\n",
    "            rival_index = i\n",
    "\n",
    "    ### CSD 구하기 ###\n",
    "    # 'match_index' 번째 경기의 tl_info로부터 't 분' 시점의 '참가자들의 데이터'를 가져옵니다.\n",
    "    tl_participants_frames          = [tl_info[match_index][t][\"participantFrames\"] for t in range(len(tl_info[match_index]))]\n",
    "    if len(tl_participants_frames) <= 15 : continue                 # 15분 전에 끝난 경기는 무시합니다.\n",
    "    tl_15_participants_frames       = tl_participants_frames[15]    # 15분 데이터\n",
    "    df_tl_15_participants_frames    = pd.json_normalize([tl_15_participants_frames[str(x+1)] for x in range(10)])\n",
    "\n",
    "    csd = df_tl_15_participants_frames.minionsKilled[summoner_index] - df_tl_15_participants_frames.minionsKilled[rival_index]\n",
    "    list_csd.append(csd)\n",
    "\n",
    "    ### GD 구하기 ###\n",
    "    gd = df_tl_15_participants_frames.totalGold[summoner_index] - df_tl_15_participants_frames.totalGold[rival_index]\n",
    "    list_gd.append(gd)\n",
    "\n",
    "    ### JP-D 구하기 ###\n",
    "    # 'match_index' 번째 경기의 tl_info로부터 't 분' 시점의 '발생한 이벤트 목록'을 가져옵니다.\n",
    "    tl_events = [tl_info[match_index][t][\"events\"] for t in range(len(tl_info[match_index]))]\n",
    "    tl_kill_events = []\n",
    "    for i in range(len(tl_events)):\n",
    "        for event in tl_events[i]:\n",
    "            if event[\"type\"] == \"CHAMPION_KILL\":\n",
    "                tl_kill_events.append(pd.json_normalize(event))\n",
    "                \n",
    "    # 배열로부터 생성된 데이터프레임은 index를 다시 설정해주는 것이 좋습니다.\n",
    "    df_kill_events = pd.concat(tl_kill_events).reset_index()    \n",
    "    del df_kill_events['index']\n",
    "\n",
    "    # 주의! 타임라인 데이터에서의 참가자들의 index는 1부터 시작합니다. (앞서 다루었던 index는 전부 0~9 사이의 값)\n",
    "\n",
    "    # 앞에서 구한 \"본인의 index, 본인 팀 정글의 index / 맞라인 상대의 index, 상대 팀 정글의 index\"를 출력해보았습니다.\n",
    "    # print(summoner_index+1, \",\", jungler_index[summoner_team]+1, \"/\", rival_index+1, \",\", jungler_index[summoner_team != 1]+1)\n",
    "\n",
    "    # NaN 값 처리 - NaN 값의 위치에 빈 list를 넣어줍니다.\n",
    "    d = df_kill_events\n",
    "    d.assistingParticipantIds = [[] if x is np.NaN else x for x in d.assistingParticipantIds]   \n",
    "    # is를 써야 하는 이유 : NaN 값은 언제나 다른 값이므로 객체를 비교해야합니다.\n",
    "    \n",
    "    # mask 생성\n",
    "    mask_summoner_kill = d.killerId == summoner_index+1\n",
    "    mask_summoner_assist = d.assistingParticipantIds.map(lambda arr : summoner_index+1 in arr)\n",
    "    mask_summoner_jungler_kill = d.killerId == jungler_index[summoner_team]+1\n",
    "    mask_summoner_jungler_assist = d.assistingParticipantIds.map(lambda arr : jungler_index[summoner_team]+1 in arr)\n",
    "\n",
    "    # 정글러 관여율을 [(정글러의 어시, 나의 킬) + (나의 어시, 정글러의 킬)]/(나의 킬 + 나의 어시) 로 가정합니다.\n",
    "    a = len(d[mask_summoner_kill & mask_summoner_jungler_assist]) + len(d[mask_summoner_assist & mask_summoner_jungler_kill])\n",
    "    b = len(d[mask_summoner_assist + mask_summoner_kill])\n",
    "    list_jp_d.append(a/b)\n",
    "    "
   ]
  },
  {
   "cell_type": "code",
   "execution_count": 40,
   "metadata": {},
   "outputs": [
    {
     "data": {
      "text/plain": [
       "0    11\n",
       "1    52\n",
       "2   -15\n",
       "3    -3\n",
       "4     6\n",
       "Name: csd_15, dtype: int64"
      ]
     },
     "metadata": {},
     "output_type": "display_data"
    },
    {
     "data": {
      "text/plain": [
       "0    1321\n",
       "1    1558\n",
       "2    -381\n",
       "3    2085\n",
       "4     745\n",
       "Name: gd_15, dtype: int64"
      ]
     },
     "metadata": {},
     "output_type": "display_data"
    },
    {
     "data": {
      "text/plain": [
       "0    0.000000\n",
       "1    0.500000\n",
       "2    0.285714\n",
       "3    0.187500\n",
       "4    0.500000\n",
       "Name: jp_d, dtype: float64"
      ]
     },
     "metadata": {},
     "output_type": "display_data"
    }
   ],
   "source": [
    "data_csd = pd.Series(list_csd, name=\"csd_15\")\n",
    "display(data_csd.head())\n",
    "data_gd = pd.Series(list_gd, name=\"gd_15\")\n",
    "display(data_gd.head())\n",
    "data_jp_d = pd.Series(list_jp_d, name=\"jp_d\")\n",
    "display(data_jp_d.head())"
   ]
  },
  {
   "cell_type": "markdown",
   "metadata": {},
   "source": [
    "# Remark: LCK 따라잡기\n",
    "- KDA\n",
    "- DPM (분당 데미지)\n",
    "- DMG% (팀 내 데미지 비율)\n",
    "- DMG/GOLD (골드 당 데미지)\n",
    "- CSD@15 (15분 CS 차이)\n",
    "- GD@15 (15분 골드 차이)\n",
    "- JP-D (정글러 관여율 차이)"
   ]
  },
  {
   "cell_type": "code",
   "execution_count": 50,
   "metadata": {},
   "outputs": [
    {
     "name": "stdout",
     "output_type": "stream",
     "text": [
      "\n",
      "KDA         : 3.53\n",
      "DPM         : 721.26\n",
      "DPM%        : 9.5%\n",
      "DMG/GOLD    : 151.8%\n",
      "CSD@15      : -4.08\n",
      "GD@15       : -79.82\n",
      "JP-D        : 23.1%\n",
      "\n"
     ]
    }
   ],
   "source": [
    "print(\"\"\"\n",
    "KDA         : %.2f\n",
    "DPM         : %.2f\n",
    "DPM%%        : %.1f%%\n",
    "DMG/GOLD    : %.1f%%\n",
    "CSD@15      : %.2f\n",
    "GD@15       : %.2f\n",
    "JP-D        : %.1f%%\n",
    "\"\"\" % (\n",
    "    data_kda.kda.mean(),\n",
    "    data_dpm.dpm_to_champions.mean(),\n",
    "    data_dmg_per.mean()*100,\n",
    "    data_dmg_by_gold.mean()*100,\n",
    "    data_csd.mean(),\n",
    "    data_gd.mean(),\n",
    "    data_jp_d.mean()*100\n",
    "))"
   ]
  },
  {
   "cell_type": "markdown",
   "metadata": {},
   "source": [
    "# 추가로 고려해볼 것\n",
    "- key player니까 맞라인 상대가 아니라 팀 내 데이터를 분석한 것일 가능성이 더 높아보임.\n",
    "    - 다시 해야지... ㅎ"
   ]
  },
  {
   "cell_type": "code",
   "execution_count": null,
   "metadata": {},
   "outputs": [],
   "source": []
  }
 ],
 "metadata": {
  "interpreter": {
   "hash": "31f2aee4e71d21fbe5cf8b01ff0e069b9275f58929596ceb00d14d90e3e16cd6"
  },
  "kernelspec": {
   "display_name": "Python 3",
   "language": "python",
   "name": "python3"
  },
  "language_info": {
   "codemirror_mode": {
    "name": "ipython",
    "version": 3
   },
   "file_extension": ".py",
   "mimetype": "text/x-python",
   "name": "python",
   "nbconvert_exporter": "python",
   "pygments_lexer": "ipython3",
   "version": "3.9.5"
  }
 },
 "nbformat": 4,
 "nbformat_minor": 2
}
