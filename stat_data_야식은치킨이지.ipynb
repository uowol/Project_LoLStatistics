{
 "cells": [
  {
   "cell_type": "code",
   "execution_count": 1,
   "source": [
    "import pandas as pd\n",
    "import json\n",
    "import numpy as np"
   ],
   "outputs": [],
   "metadata": {}
  },
  {
   "cell_type": "code",
   "execution_count": 2,
   "source": [
    "with open(\"data/data_summoner_match_data_야식은치킨이지.json\", 'r') as file:\n",
    "    raw_data = json.load(file)"
   ],
   "outputs": [],
   "metadata": {}
  },
  {
   "cell_type": "code",
   "execution_count": 112,
   "source": [
    "df = pd.json_normalize(raw_data)\n",
    "df_meta = df.iloc[:, 1:3]\n",
    "df_meta.columns = ['matchId', 'participants']\n",
    "df_info = df.iloc[:, 3:]\n",
    "df_info.columns = raw_data[0]['info'].keys()"
   ],
   "outputs": [],
   "metadata": {}
  },
  {
   "cell_type": "code",
   "execution_count": 4,
   "source": [
    "arr_teams = df_info.pop('teams')"
   ],
   "outputs": [],
   "metadata": {}
  },
  {
   "cell_type": "code",
   "execution_count": 5,
   "source": [
    "arr_participants = df_info.pop('participants')"
   ],
   "outputs": [],
   "metadata": {}
  },
  {
   "cell_type": "code",
   "execution_count": 6,
   "source": [
    "df_teams = pd.concat([pd.json_normalize(arr_teams[x]) for x in range(len(raw_data))])\n",
    "df_teams.index = range(len(raw_data)*2)"
   ],
   "outputs": [],
   "metadata": {}
  },
  {
   "cell_type": "code",
   "execution_count": 7,
   "source": [
    "df_participants = pd.concat([pd.json_normalize(arr_participants[x]) for x in range(len(raw_data))])\n",
    "df_participants.index = range(len(raw_data)*10)"
   ],
   "outputs": [],
   "metadata": {}
  },
  {
   "cell_type": "markdown",
   "source": [
    "## now we have \n",
    "- df_meta\n",
    "- df_info\n",
    "- df_teams\n",
    "- df_participants"
   ],
   "metadata": {}
  },
  {
   "cell_type": "code",
   "execution_count": 8,
   "source": [
    "print(\n",
    "    df_meta.columns, \n",
    "    df_info.columns,\n",
    "    df_teams.columns,\n",
    "    df_participants.columns,\n",
    "    sep='\\n')"
   ],
   "outputs": [
    {
     "output_type": "stream",
     "name": "stdout",
     "text": [
      "Index(['matchId', 'participants'], dtype='object')\n",
      "Index(['gameCreation', 'gameDuration', 'gameId', 'gameMode', 'gameName',\n",
      "       'gameStartTimestamp', 'gameType', 'gameVersion', 'mapId', 'platformId',\n",
      "       'queueId', 'tournamentCode'],\n",
      "      dtype='object')\n",
      "Index(['bans', 'teamId', 'win', 'objectives.baron.first',\n",
      "       'objectives.baron.kills', 'objectives.champion.first',\n",
      "       'objectives.champion.kills', 'objectives.dragon.first',\n",
      "       'objectives.dragon.kills', 'objectives.inhibitor.first',\n",
      "       'objectives.inhibitor.kills', 'objectives.riftHerald.first',\n",
      "       'objectives.riftHerald.kills', 'objectives.tower.first',\n",
      "       'objectives.tower.kills'],\n",
      "      dtype='object')\n",
      "Index(['assists', 'baronKills', 'bountyLevel', 'champExperience', 'champLevel',\n",
      "       'championId', 'championName', 'championTransform',\n",
      "       'consumablesPurchased', 'damageDealtToBuildings',\n",
      "       ...\n",
      "       'unrealKills', 'visionScore', 'visionWardsBoughtInGame', 'wardsKilled',\n",
      "       'wardsPlaced', 'win', 'perks.statPerks.defense', 'perks.statPerks.flex',\n",
      "       'perks.statPerks.offense', 'perks.styles'],\n",
      "      dtype='object', length=108)\n"
     ]
    }
   ],
   "metadata": {}
  },
  {
   "cell_type": "code",
   "execution_count": 9,
   "source": [
    "with open(\"data/data_summoner_야식은치킨이지.json\", 'r') as file:\n",
    "    summoner_puuid = json.load(file)[\"puuid\"]\n",
    "summoner_puuid"
   ],
   "outputs": [
    {
     "output_type": "execute_result",
     "data": {
      "text/plain": [
       "'mX__RNvnhclbNgyGz8tK9-TcnJRwHeTk0FyHL2jOJe6MU6WKNvwCkdfaaLJaZzujUoz5YACjf6-p_g'"
      ]
     },
     "metadata": {},
     "execution_count": 9
    }
   ],
   "metadata": {}
  },
  {
   "cell_type": "code",
   "execution_count": 10,
   "source": [
    "df_meta['summonerIndex'] = df_meta.participants.map(lambda participants : participants.index(summoner_puuid))\n",
    "df_meta.head()"
   ],
   "outputs": [
    {
     "output_type": "execute_result",
     "data": {
      "text/html": [
       "<div>\n",
       "<style scoped>\n",
       "    .dataframe tbody tr th:only-of-type {\n",
       "        vertical-align: middle;\n",
       "    }\n",
       "\n",
       "    .dataframe tbody tr th {\n",
       "        vertical-align: top;\n",
       "    }\n",
       "\n",
       "    .dataframe thead th {\n",
       "        text-align: right;\n",
       "    }\n",
       "</style>\n",
       "<table border=\"1\" class=\"dataframe\">\n",
       "  <thead>\n",
       "    <tr style=\"text-align: right;\">\n",
       "      <th></th>\n",
       "      <th>matchId</th>\n",
       "      <th>participants</th>\n",
       "      <th>summonerIndex</th>\n",
       "    </tr>\n",
       "  </thead>\n",
       "  <tbody>\n",
       "    <tr>\n",
       "      <th>0</th>\n",
       "      <td>KR_5383029593</td>\n",
       "      <td>[rUTte1LB7uqx7-Be9GDunKU58Cvda2Hl3zslnmrD35alP...</td>\n",
       "      <td>6</td>\n",
       "    </tr>\n",
       "    <tr>\n",
       "      <th>1</th>\n",
       "      <td>KR_5383081525</td>\n",
       "      <td>[FMr_19OZMaYzwkkUXY2ILgKlspRcKpW_m3Ich7aZQNmCO...</td>\n",
       "      <td>5</td>\n",
       "    </tr>\n",
       "    <tr>\n",
       "      <th>2</th>\n",
       "      <td>KR_5382976870</td>\n",
       "      <td>[mX__RNvnhclbNgyGz8tK9-TcnJRwHeTk0FyHL2jOJe6MU...</td>\n",
       "      <td>0</td>\n",
       "    </tr>\n",
       "    <tr>\n",
       "      <th>3</th>\n",
       "      <td>KR_5382817808</td>\n",
       "      <td>[R9gC34TdorS8Ry23GXmm46K5jLi6-hCary5cX3XA4Oko7...</td>\n",
       "      <td>3</td>\n",
       "    </tr>\n",
       "    <tr>\n",
       "      <th>4</th>\n",
       "      <td>KR_5382882767</td>\n",
       "      <td>[Y97ddFWUFhOEUA0ULYUc-jlBVe_sQROMuOVQQdCwCLREI...</td>\n",
       "      <td>5</td>\n",
       "    </tr>\n",
       "  </tbody>\n",
       "</table>\n",
       "</div>"
      ],
      "text/plain": [
       "         matchId                                       participants  \\\n",
       "0  KR_5383029593  [rUTte1LB7uqx7-Be9GDunKU58Cvda2Hl3zslnmrD35alP...   \n",
       "1  KR_5383081525  [FMr_19OZMaYzwkkUXY2ILgKlspRcKpW_m3Ich7aZQNmCO...   \n",
       "2  KR_5382976870  [mX__RNvnhclbNgyGz8tK9-TcnJRwHeTk0FyHL2jOJe6MU...   \n",
       "3  KR_5382817808  [R9gC34TdorS8Ry23GXmm46K5jLi6-hCary5cX3XA4Oko7...   \n",
       "4  KR_5382882767  [Y97ddFWUFhOEUA0ULYUc-jlBVe_sQROMuOVQQdCwCLREI...   \n",
       "\n",
       "   summonerIndex  \n",
       "0              6  \n",
       "1              5  \n",
       "2              0  \n",
       "3              3  \n",
       "4              5  "
      ]
     },
     "metadata": {},
     "execution_count": 10
    }
   ],
   "metadata": {}
  },
  {
   "cell_type": "markdown",
   "source": [
    "# 승률"
   ],
   "metadata": {}
  },
  {
   "cell_type": "code",
   "execution_count": 11,
   "source": [
    "df_teams.head()"
   ],
   "outputs": [
    {
     "output_type": "execute_result",
     "data": {
      "text/html": [
       "<div>\n",
       "<style scoped>\n",
       "    .dataframe tbody tr th:only-of-type {\n",
       "        vertical-align: middle;\n",
       "    }\n",
       "\n",
       "    .dataframe tbody tr th {\n",
       "        vertical-align: top;\n",
       "    }\n",
       "\n",
       "    .dataframe thead th {\n",
       "        text-align: right;\n",
       "    }\n",
       "</style>\n",
       "<table border=\"1\" class=\"dataframe\">\n",
       "  <thead>\n",
       "    <tr style=\"text-align: right;\">\n",
       "      <th></th>\n",
       "      <th>bans</th>\n",
       "      <th>teamId</th>\n",
       "      <th>win</th>\n",
       "      <th>objectives.baron.first</th>\n",
       "      <th>objectives.baron.kills</th>\n",
       "      <th>objectives.champion.first</th>\n",
       "      <th>objectives.champion.kills</th>\n",
       "      <th>objectives.dragon.first</th>\n",
       "      <th>objectives.dragon.kills</th>\n",
       "      <th>objectives.inhibitor.first</th>\n",
       "      <th>objectives.inhibitor.kills</th>\n",
       "      <th>objectives.riftHerald.first</th>\n",
       "      <th>objectives.riftHerald.kills</th>\n",
       "      <th>objectives.tower.first</th>\n",
       "      <th>objectives.tower.kills</th>\n",
       "    </tr>\n",
       "  </thead>\n",
       "  <tbody>\n",
       "    <tr>\n",
       "      <th>0</th>\n",
       "      <td>[]</td>\n",
       "      <td>100</td>\n",
       "      <td>True</td>\n",
       "      <td>False</td>\n",
       "      <td>0</td>\n",
       "      <td>True</td>\n",
       "      <td>40</td>\n",
       "      <td>False</td>\n",
       "      <td>0</td>\n",
       "      <td>False</td>\n",
       "      <td>0</td>\n",
       "      <td>False</td>\n",
       "      <td>0</td>\n",
       "      <td>True</td>\n",
       "      <td>2</td>\n",
       "    </tr>\n",
       "    <tr>\n",
       "      <th>1</th>\n",
       "      <td>[]</td>\n",
       "      <td>200</td>\n",
       "      <td>False</td>\n",
       "      <td>False</td>\n",
       "      <td>0</td>\n",
       "      <td>False</td>\n",
       "      <td>27</td>\n",
       "      <td>False</td>\n",
       "      <td>0</td>\n",
       "      <td>False</td>\n",
       "      <td>0</td>\n",
       "      <td>False</td>\n",
       "      <td>0</td>\n",
       "      <td>False</td>\n",
       "      <td>0</td>\n",
       "    </tr>\n",
       "    <tr>\n",
       "      <th>2</th>\n",
       "      <td>[]</td>\n",
       "      <td>100</td>\n",
       "      <td>True</td>\n",
       "      <td>False</td>\n",
       "      <td>0</td>\n",
       "      <td>False</td>\n",
       "      <td>40</td>\n",
       "      <td>True</td>\n",
       "      <td>4</td>\n",
       "      <td>False</td>\n",
       "      <td>0</td>\n",
       "      <td>True</td>\n",
       "      <td>1</td>\n",
       "      <td>True</td>\n",
       "      <td>5</td>\n",
       "    </tr>\n",
       "    <tr>\n",
       "      <th>3</th>\n",
       "      <td>[]</td>\n",
       "      <td>200</td>\n",
       "      <td>False</td>\n",
       "      <td>False</td>\n",
       "      <td>0</td>\n",
       "      <td>True</td>\n",
       "      <td>24</td>\n",
       "      <td>False</td>\n",
       "      <td>1</td>\n",
       "      <td>False</td>\n",
       "      <td>0</td>\n",
       "      <td>False</td>\n",
       "      <td>0</td>\n",
       "      <td>False</td>\n",
       "      <td>3</td>\n",
       "    </tr>\n",
       "    <tr>\n",
       "      <th>4</th>\n",
       "      <td>[]</td>\n",
       "      <td>100</td>\n",
       "      <td>False</td>\n",
       "      <td>False</td>\n",
       "      <td>0</td>\n",
       "      <td>False</td>\n",
       "      <td>15</td>\n",
       "      <td>True</td>\n",
       "      <td>1</td>\n",
       "      <td>False</td>\n",
       "      <td>0</td>\n",
       "      <td>False</td>\n",
       "      <td>0</td>\n",
       "      <td>False</td>\n",
       "      <td>0</td>\n",
       "    </tr>\n",
       "  </tbody>\n",
       "</table>\n",
       "</div>"
      ],
      "text/plain": [
       "  bans  teamId    win  objectives.baron.first  objectives.baron.kills  \\\n",
       "0   []     100   True                   False                       0   \n",
       "1   []     200  False                   False                       0   \n",
       "2   []     100   True                   False                       0   \n",
       "3   []     200  False                   False                       0   \n",
       "4   []     100  False                   False                       0   \n",
       "\n",
       "   objectives.champion.first  objectives.champion.kills  \\\n",
       "0                       True                         40   \n",
       "1                      False                         27   \n",
       "2                      False                         40   \n",
       "3                       True                         24   \n",
       "4                      False                         15   \n",
       "\n",
       "   objectives.dragon.first  objectives.dragon.kills  \\\n",
       "0                    False                        0   \n",
       "1                    False                        0   \n",
       "2                     True                        4   \n",
       "3                    False                        1   \n",
       "4                     True                        1   \n",
       "\n",
       "   objectives.inhibitor.first  objectives.inhibitor.kills  \\\n",
       "0                       False                           0   \n",
       "1                       False                           0   \n",
       "2                       False                           0   \n",
       "3                       False                           0   \n",
       "4                       False                           0   \n",
       "\n",
       "   objectives.riftHerald.first  objectives.riftHerald.kills  \\\n",
       "0                        False                            0   \n",
       "1                        False                            0   \n",
       "2                         True                            1   \n",
       "3                        False                            0   \n",
       "4                        False                            0   \n",
       "\n",
       "   objectives.tower.first  objectives.tower.kills  \n",
       "0                    True                       2  \n",
       "1                   False                       0  \n",
       "2                    True                       5  \n",
       "3                   False                       3  \n",
       "4                   False                       0  "
      ]
     },
     "metadata": {},
     "execution_count": 11
    }
   ],
   "metadata": {}
  },
  {
   "cell_type": "code",
   "execution_count": 12,
   "source": [
    "# 나는 어떤 팀이었을까\n",
    "is_redteam = [int(x >= 5) for x in df_meta.summonerIndex]\n",
    "teams_index = [x*2+is_redteam[x] for x in range(len(raw_data))]"
   ],
   "outputs": [],
   "metadata": {}
  },
  {
   "cell_type": "code",
   "execution_count": 13,
   "source": [
    "win_sum = sum(df_teams.win[teams_index])\n",
    "win_rate = win_sum / len(raw_data)\n",
    "print(win_sum, win_rate)"
   ],
   "outputs": [
    {
     "output_type": "stream",
     "name": "stdout",
     "text": [
      "53 0.53\n"
     ]
    }
   ],
   "metadata": {}
  },
  {
   "cell_type": "markdown",
   "source": [
    "# 레드팀 / 블루팀 각 횟수와 승률"
   ],
   "metadata": {}
  },
  {
   "cell_type": "code",
   "execution_count": 14,
   "source": [
    "df_myteam = df_teams.iloc[teams_index]\n",
    "df_myteam"
   ],
   "outputs": [
    {
     "output_type": "execute_result",
     "data": {
      "text/html": [
       "<div>\n",
       "<style scoped>\n",
       "    .dataframe tbody tr th:only-of-type {\n",
       "        vertical-align: middle;\n",
       "    }\n",
       "\n",
       "    .dataframe tbody tr th {\n",
       "        vertical-align: top;\n",
       "    }\n",
       "\n",
       "    .dataframe thead th {\n",
       "        text-align: right;\n",
       "    }\n",
       "</style>\n",
       "<table border=\"1\" class=\"dataframe\">\n",
       "  <thead>\n",
       "    <tr style=\"text-align: right;\">\n",
       "      <th></th>\n",
       "      <th>bans</th>\n",
       "      <th>teamId</th>\n",
       "      <th>win</th>\n",
       "      <th>objectives.baron.first</th>\n",
       "      <th>objectives.baron.kills</th>\n",
       "      <th>objectives.champion.first</th>\n",
       "      <th>objectives.champion.kills</th>\n",
       "      <th>objectives.dragon.first</th>\n",
       "      <th>objectives.dragon.kills</th>\n",
       "      <th>objectives.inhibitor.first</th>\n",
       "      <th>objectives.inhibitor.kills</th>\n",
       "      <th>objectives.riftHerald.first</th>\n",
       "      <th>objectives.riftHerald.kills</th>\n",
       "      <th>objectives.tower.first</th>\n",
       "      <th>objectives.tower.kills</th>\n",
       "    </tr>\n",
       "  </thead>\n",
       "  <tbody>\n",
       "    <tr>\n",
       "      <th>1</th>\n",
       "      <td>[]</td>\n",
       "      <td>200</td>\n",
       "      <td>False</td>\n",
       "      <td>False</td>\n",
       "      <td>0</td>\n",
       "      <td>False</td>\n",
       "      <td>27</td>\n",
       "      <td>False</td>\n",
       "      <td>0</td>\n",
       "      <td>False</td>\n",
       "      <td>0</td>\n",
       "      <td>False</td>\n",
       "      <td>0</td>\n",
       "      <td>False</td>\n",
       "      <td>0</td>\n",
       "    </tr>\n",
       "    <tr>\n",
       "      <th>3</th>\n",
       "      <td>[]</td>\n",
       "      <td>200</td>\n",
       "      <td>False</td>\n",
       "      <td>False</td>\n",
       "      <td>0</td>\n",
       "      <td>True</td>\n",
       "      <td>24</td>\n",
       "      <td>False</td>\n",
       "      <td>1</td>\n",
       "      <td>False</td>\n",
       "      <td>0</td>\n",
       "      <td>False</td>\n",
       "      <td>0</td>\n",
       "      <td>False</td>\n",
       "      <td>3</td>\n",
       "    </tr>\n",
       "    <tr>\n",
       "      <th>4</th>\n",
       "      <td>[]</td>\n",
       "      <td>100</td>\n",
       "      <td>False</td>\n",
       "      <td>False</td>\n",
       "      <td>0</td>\n",
       "      <td>False</td>\n",
       "      <td>15</td>\n",
       "      <td>True</td>\n",
       "      <td>1</td>\n",
       "      <td>False</td>\n",
       "      <td>0</td>\n",
       "      <td>False</td>\n",
       "      <td>0</td>\n",
       "      <td>False</td>\n",
       "      <td>0</td>\n",
       "    </tr>\n",
       "    <tr>\n",
       "      <th>6</th>\n",
       "      <td>[]</td>\n",
       "      <td>100</td>\n",
       "      <td>False</td>\n",
       "      <td>False</td>\n",
       "      <td>0</td>\n",
       "      <td>True</td>\n",
       "      <td>28</td>\n",
       "      <td>True</td>\n",
       "      <td>1</td>\n",
       "      <td>False</td>\n",
       "      <td>0</td>\n",
       "      <td>True</td>\n",
       "      <td>2</td>\n",
       "      <td>True</td>\n",
       "      <td>6</td>\n",
       "    </tr>\n",
       "    <tr>\n",
       "      <th>9</th>\n",
       "      <td>[]</td>\n",
       "      <td>200</td>\n",
       "      <td>False</td>\n",
       "      <td>False</td>\n",
       "      <td>0</td>\n",
       "      <td>False</td>\n",
       "      <td>7</td>\n",
       "      <td>False</td>\n",
       "      <td>0</td>\n",
       "      <td>False</td>\n",
       "      <td>0</td>\n",
       "      <td>True</td>\n",
       "      <td>1</td>\n",
       "      <td>False</td>\n",
       "      <td>1</td>\n",
       "    </tr>\n",
       "    <tr>\n",
       "      <th>...</th>\n",
       "      <td>...</td>\n",
       "      <td>...</td>\n",
       "      <td>...</td>\n",
       "      <td>...</td>\n",
       "      <td>...</td>\n",
       "      <td>...</td>\n",
       "      <td>...</td>\n",
       "      <td>...</td>\n",
       "      <td>...</td>\n",
       "      <td>...</td>\n",
       "      <td>...</td>\n",
       "      <td>...</td>\n",
       "      <td>...</td>\n",
       "      <td>...</td>\n",
       "      <td>...</td>\n",
       "    </tr>\n",
       "    <tr>\n",
       "      <th>191</th>\n",
       "      <td>[]</td>\n",
       "      <td>200</td>\n",
       "      <td>True</td>\n",
       "      <td>False</td>\n",
       "      <td>0</td>\n",
       "      <td>False</td>\n",
       "      <td>45</td>\n",
       "      <td>False</td>\n",
       "      <td>0</td>\n",
       "      <td>True</td>\n",
       "      <td>2</td>\n",
       "      <td>False</td>\n",
       "      <td>0</td>\n",
       "      <td>True</td>\n",
       "      <td>4</td>\n",
       "    </tr>\n",
       "    <tr>\n",
       "      <th>192</th>\n",
       "      <td>[]</td>\n",
       "      <td>100</td>\n",
       "      <td>False</td>\n",
       "      <td>False</td>\n",
       "      <td>1</td>\n",
       "      <td>False</td>\n",
       "      <td>54</td>\n",
       "      <td>False</td>\n",
       "      <td>1</td>\n",
       "      <td>False</td>\n",
       "      <td>0</td>\n",
       "      <td>True</td>\n",
       "      <td>1</td>\n",
       "      <td>True</td>\n",
       "      <td>7</td>\n",
       "    </tr>\n",
       "    <tr>\n",
       "      <th>195</th>\n",
       "      <td>[]</td>\n",
       "      <td>200</td>\n",
       "      <td>True</td>\n",
       "      <td>False</td>\n",
       "      <td>0</td>\n",
       "      <td>False</td>\n",
       "      <td>46</td>\n",
       "      <td>False</td>\n",
       "      <td>0</td>\n",
       "      <td>True</td>\n",
       "      <td>2</td>\n",
       "      <td>False</td>\n",
       "      <td>0</td>\n",
       "      <td>False</td>\n",
       "      <td>4</td>\n",
       "    </tr>\n",
       "    <tr>\n",
       "      <th>197</th>\n",
       "      <td>[]</td>\n",
       "      <td>200</td>\n",
       "      <td>True</td>\n",
       "      <td>True</td>\n",
       "      <td>2</td>\n",
       "      <td>True</td>\n",
       "      <td>61</td>\n",
       "      <td>False</td>\n",
       "      <td>4</td>\n",
       "      <td>False</td>\n",
       "      <td>1</td>\n",
       "      <td>False</td>\n",
       "      <td>0</td>\n",
       "      <td>True</td>\n",
       "      <td>7</td>\n",
       "    </tr>\n",
       "    <tr>\n",
       "      <th>198</th>\n",
       "      <td>[]</td>\n",
       "      <td>100</td>\n",
       "      <td>True</td>\n",
       "      <td>True</td>\n",
       "      <td>1</td>\n",
       "      <td>False</td>\n",
       "      <td>38</td>\n",
       "      <td>False</td>\n",
       "      <td>1</td>\n",
       "      <td>True</td>\n",
       "      <td>2</td>\n",
       "      <td>False</td>\n",
       "      <td>0</td>\n",
       "      <td>True</td>\n",
       "      <td>8</td>\n",
       "    </tr>\n",
       "  </tbody>\n",
       "</table>\n",
       "<p>100 rows × 15 columns</p>\n",
       "</div>"
      ],
      "text/plain": [
       "    bans  teamId    win  objectives.baron.first  objectives.baron.kills  \\\n",
       "1     []     200  False                   False                       0   \n",
       "3     []     200  False                   False                       0   \n",
       "4     []     100  False                   False                       0   \n",
       "6     []     100  False                   False                       0   \n",
       "9     []     200  False                   False                       0   \n",
       "..   ...     ...    ...                     ...                     ...   \n",
       "191   []     200   True                   False                       0   \n",
       "192   []     100  False                   False                       1   \n",
       "195   []     200   True                   False                       0   \n",
       "197   []     200   True                    True                       2   \n",
       "198   []     100   True                    True                       1   \n",
       "\n",
       "     objectives.champion.first  objectives.champion.kills  \\\n",
       "1                        False                         27   \n",
       "3                         True                         24   \n",
       "4                        False                         15   \n",
       "6                         True                         28   \n",
       "9                        False                          7   \n",
       "..                         ...                        ...   \n",
       "191                      False                         45   \n",
       "192                      False                         54   \n",
       "195                      False                         46   \n",
       "197                       True                         61   \n",
       "198                      False                         38   \n",
       "\n",
       "     objectives.dragon.first  objectives.dragon.kills  \\\n",
       "1                      False                        0   \n",
       "3                      False                        1   \n",
       "4                       True                        1   \n",
       "6                       True                        1   \n",
       "9                      False                        0   \n",
       "..                       ...                      ...   \n",
       "191                    False                        0   \n",
       "192                    False                        1   \n",
       "195                    False                        0   \n",
       "197                    False                        4   \n",
       "198                    False                        1   \n",
       "\n",
       "     objectives.inhibitor.first  objectives.inhibitor.kills  \\\n",
       "1                         False                           0   \n",
       "3                         False                           0   \n",
       "4                         False                           0   \n",
       "6                         False                           0   \n",
       "9                         False                           0   \n",
       "..                          ...                         ...   \n",
       "191                        True                           2   \n",
       "192                       False                           0   \n",
       "195                        True                           2   \n",
       "197                       False                           1   \n",
       "198                        True                           2   \n",
       "\n",
       "     objectives.riftHerald.first  objectives.riftHerald.kills  \\\n",
       "1                          False                            0   \n",
       "3                          False                            0   \n",
       "4                          False                            0   \n",
       "6                           True                            2   \n",
       "9                           True                            1   \n",
       "..                           ...                          ...   \n",
       "191                        False                            0   \n",
       "192                         True                            1   \n",
       "195                        False                            0   \n",
       "197                        False                            0   \n",
       "198                        False                            0   \n",
       "\n",
       "     objectives.tower.first  objectives.tower.kills  \n",
       "1                     False                       0  \n",
       "3                     False                       3  \n",
       "4                     False                       0  \n",
       "6                      True                       6  \n",
       "9                     False                       1  \n",
       "..                      ...                     ...  \n",
       "191                    True                       4  \n",
       "192                    True                       7  \n",
       "195                   False                       4  \n",
       "197                    True                       7  \n",
       "198                    True                       8  \n",
       "\n",
       "[100 rows x 15 columns]"
      ]
     },
     "metadata": {},
     "execution_count": 14
    }
   ],
   "metadata": {}
  },
  {
   "cell_type": "code",
   "execution_count": 15,
   "source": [
    "num_redteam = sum(df_myteam.teamId==200)\n",
    "win_sum_redteam = sum((df_myteam.teamId==200) & (df_myteam.win))\n",
    "win_rate_redteam = win_sum_redteam/num_redteam\n",
    "num_blueteam = len(raw_data) - num_redteam\n",
    "win_sum_blueteam = win_sum - win_sum_redteam\n",
    "win_rate_blueteam = 1-win_rate_redteam\n",
    "print(\"red team : {sum}/{num}, {rate}\".format(sum=win_sum_redteam, num=num_redteam, rate=win_rate_redteam))\n",
    "print(\"blue team : {sum}/{num}, {rate}\".format(sum=win_sum_blueteam, num=num_blueteam, rate=win_rate_blueteam))"
   ],
   "outputs": [
    {
     "output_type": "stream",
     "name": "stdout",
     "text": [
      "red team : 26/53, 0.49056603773584906\n",
      "blue team : 27/47, 0.5094339622641509\n"
     ]
    }
   ],
   "metadata": {}
  },
  {
   "cell_type": "markdown",
   "source": [
    "# 시각화"
   ],
   "metadata": {}
  },
  {
   "cell_type": "code",
   "execution_count": 16,
   "source": [
    "import seaborn as sns"
   ],
   "outputs": [],
   "metadata": {}
  },
  {
   "cell_type": "markdown",
   "source": [
    "## 사용할 데이터 - df_participants 중 내 데이터"
   ],
   "metadata": {}
  },
  {
   "cell_type": "code",
   "execution_count": 34,
   "source": [
    "data = df_participants[df_participants.puuid == summoner_puuid].reset_index()\n",
    "data.head()"
   ],
   "outputs": [
    {
     "output_type": "execute_result",
     "data": {
      "text/html": [
       "<div>\n",
       "<style scoped>\n",
       "    .dataframe tbody tr th:only-of-type {\n",
       "        vertical-align: middle;\n",
       "    }\n",
       "\n",
       "    .dataframe tbody tr th {\n",
       "        vertical-align: top;\n",
       "    }\n",
       "\n",
       "    .dataframe thead th {\n",
       "        text-align: right;\n",
       "    }\n",
       "</style>\n",
       "<table border=\"1\" class=\"dataframe\">\n",
       "  <thead>\n",
       "    <tr style=\"text-align: right;\">\n",
       "      <th></th>\n",
       "      <th>index</th>\n",
       "      <th>assists</th>\n",
       "      <th>baronKills</th>\n",
       "      <th>bountyLevel</th>\n",
       "      <th>champExperience</th>\n",
       "      <th>champLevel</th>\n",
       "      <th>championId</th>\n",
       "      <th>championName</th>\n",
       "      <th>championTransform</th>\n",
       "      <th>consumablesPurchased</th>\n",
       "      <th>...</th>\n",
       "      <th>unrealKills</th>\n",
       "      <th>visionScore</th>\n",
       "      <th>visionWardsBoughtInGame</th>\n",
       "      <th>wardsKilled</th>\n",
       "      <th>wardsPlaced</th>\n",
       "      <th>win</th>\n",
       "      <th>perks.statPerks.defense</th>\n",
       "      <th>perks.statPerks.flex</th>\n",
       "      <th>perks.statPerks.offense</th>\n",
       "      <th>perks.styles</th>\n",
       "    </tr>\n",
       "  </thead>\n",
       "  <tbody>\n",
       "    <tr>\n",
       "      <th>0</th>\n",
       "      <td>6</td>\n",
       "      <td>13</td>\n",
       "      <td>0</td>\n",
       "      <td>0</td>\n",
       "      <td>12602</td>\n",
       "      <td>14</td>\n",
       "      <td>31</td>\n",
       "      <td>Chogath</td>\n",
       "      <td>0</td>\n",
       "      <td>2</td>\n",
       "      <td>...</td>\n",
       "      <td>0</td>\n",
       "      <td>0</td>\n",
       "      <td>0</td>\n",
       "      <td>0</td>\n",
       "      <td>0</td>\n",
       "      <td>False</td>\n",
       "      <td>5002</td>\n",
       "      <td>5008</td>\n",
       "      <td>5005</td>\n",
       "      <td>[{'description': 'primaryStyle', 'selections':...</td>\n",
       "    </tr>\n",
       "    <tr>\n",
       "      <th>1</th>\n",
       "      <td>15</td>\n",
       "      <td>3</td>\n",
       "      <td>0</td>\n",
       "      <td>0</td>\n",
       "      <td>14804</td>\n",
       "      <td>16</td>\n",
       "      <td>14</td>\n",
       "      <td>Sion</td>\n",
       "      <td>0</td>\n",
       "      <td>3</td>\n",
       "      <td>...</td>\n",
       "      <td>0</td>\n",
       "      <td>19</td>\n",
       "      <td>2</td>\n",
       "      <td>4</td>\n",
       "      <td>4</td>\n",
       "      <td>False</td>\n",
       "      <td>5002</td>\n",
       "      <td>5008</td>\n",
       "      <td>5005</td>\n",
       "      <td>[{'description': 'primaryStyle', 'selections':...</td>\n",
       "    </tr>\n",
       "    <tr>\n",
       "      <th>2</th>\n",
       "      <td>20</td>\n",
       "      <td>2</td>\n",
       "      <td>0</td>\n",
       "      <td>1</td>\n",
       "      <td>8051</td>\n",
       "      <td>11</td>\n",
       "      <td>21</td>\n",
       "      <td>MissFortune</td>\n",
       "      <td>0</td>\n",
       "      <td>4</td>\n",
       "      <td>...</td>\n",
       "      <td>0</td>\n",
       "      <td>11</td>\n",
       "      <td>2</td>\n",
       "      <td>3</td>\n",
       "      <td>8</td>\n",
       "      <td>False</td>\n",
       "      <td>5002</td>\n",
       "      <td>5008</td>\n",
       "      <td>5005</td>\n",
       "      <td>[{'description': 'primaryStyle', 'selections':...</td>\n",
       "    </tr>\n",
       "    <tr>\n",
       "      <th>3</th>\n",
       "      <td>33</td>\n",
       "      <td>4</td>\n",
       "      <td>0</td>\n",
       "      <td>0</td>\n",
       "      <td>14620</td>\n",
       "      <td>15</td>\n",
       "      <td>51</td>\n",
       "      <td>Caitlyn</td>\n",
       "      <td>0</td>\n",
       "      <td>6</td>\n",
       "      <td>...</td>\n",
       "      <td>0</td>\n",
       "      <td>27</td>\n",
       "      <td>4</td>\n",
       "      <td>3</td>\n",
       "      <td>16</td>\n",
       "      <td>False</td>\n",
       "      <td>5002</td>\n",
       "      <td>5008</td>\n",
       "      <td>5005</td>\n",
       "      <td>[{'description': 'primaryStyle', 'selections':...</td>\n",
       "    </tr>\n",
       "    <tr>\n",
       "      <th>4</th>\n",
       "      <td>45</td>\n",
       "      <td>2</td>\n",
       "      <td>0</td>\n",
       "      <td>0</td>\n",
       "      <td>7543</td>\n",
       "      <td>11</td>\n",
       "      <td>150</td>\n",
       "      <td>Gnar</td>\n",
       "      <td>0</td>\n",
       "      <td>3</td>\n",
       "      <td>...</td>\n",
       "      <td>0</td>\n",
       "      <td>8</td>\n",
       "      <td>2</td>\n",
       "      <td>0</td>\n",
       "      <td>4</td>\n",
       "      <td>False</td>\n",
       "      <td>5002</td>\n",
       "      <td>5008</td>\n",
       "      <td>5005</td>\n",
       "      <td>[{'description': 'primaryStyle', 'selections':...</td>\n",
       "    </tr>\n",
       "  </tbody>\n",
       "</table>\n",
       "<p>5 rows × 109 columns</p>\n",
       "</div>"
      ],
      "text/plain": [
       "   index  assists  baronKills  bountyLevel  champExperience  champLevel  \\\n",
       "0      6       13           0            0            12602          14   \n",
       "1     15        3           0            0            14804          16   \n",
       "2     20        2           0            1             8051          11   \n",
       "3     33        4           0            0            14620          15   \n",
       "4     45        2           0            0             7543          11   \n",
       "\n",
       "   championId championName  championTransform  consumablesPurchased  ...  \\\n",
       "0          31      Chogath                  0                     2  ...   \n",
       "1          14         Sion                  0                     3  ...   \n",
       "2          21  MissFortune                  0                     4  ...   \n",
       "3          51      Caitlyn                  0                     6  ...   \n",
       "4         150         Gnar                  0                     3  ...   \n",
       "\n",
       "   unrealKills  visionScore  visionWardsBoughtInGame  wardsKilled  \\\n",
       "0            0            0                        0            0   \n",
       "1            0           19                        2            4   \n",
       "2            0           11                        2            3   \n",
       "3            0           27                        4            3   \n",
       "4            0            8                        2            0   \n",
       "\n",
       "   wardsPlaced    win  perks.statPerks.defense  perks.statPerks.flex  \\\n",
       "0            0  False                     5002                  5008   \n",
       "1            4  False                     5002                  5008   \n",
       "2            8  False                     5002                  5008   \n",
       "3           16  False                     5002                  5008   \n",
       "4            4  False                     5002                  5008   \n",
       "\n",
       "   perks.statPerks.offense                                       perks.styles  \n",
       "0                     5005  [{'description': 'primaryStyle', 'selections':...  \n",
       "1                     5005  [{'description': 'primaryStyle', 'selections':...  \n",
       "2                     5005  [{'description': 'primaryStyle', 'selections':...  \n",
       "3                     5005  [{'description': 'primaryStyle', 'selections':...  \n",
       "4                     5005  [{'description': 'primaryStyle', 'selections':...  \n",
       "\n",
       "[5 rows x 109 columns]"
      ]
     },
     "metadata": {},
     "execution_count": 34
    }
   ],
   "metadata": {}
  },
  {
   "cell_type": "markdown",
   "source": [
    "## KDA"
   ],
   "metadata": {}
  },
  {
   "cell_type": "code",
   "execution_count": 18,
   "source": [
    "data[[\"kills\", \"deaths\", \"assists\"]].head()\n",
    "print(\"summary\", data[[\"kills\", \"deaths\", \"assists\"]].mean(), sep=\"\\n\")"
   ],
   "outputs": [
    {
     "output_type": "stream",
     "name": "stdout",
     "text": [
      "summary\n",
      "kills       5.18\n",
      "deaths      6.31\n",
      "assists    12.51\n",
      "dtype: float64\n"
     ]
    }
   ],
   "metadata": {}
  },
  {
   "cell_type": "code",
   "execution_count": 19,
   "source": [
    "kda = (data[\"kills\"]+data[\"assists\"])/data[\"deaths\"]\n",
    "kda.name = \"kda\"\n",
    "kda[data[\"deaths\"]==0] = -1     # perfect\n",
    "kda.head()"
   ],
   "outputs": [
    {
     "output_type": "execute_result",
     "data": {
      "text/plain": [
       "0    2.111111\n",
       "1    1.111111\n",
       "2    1.000000\n",
       "3    1.600000\n",
       "4    2.000000\n",
       "Name: kda, dtype: float64"
      ]
     },
     "metadata": {},
     "execution_count": 19
    }
   ],
   "metadata": {}
  },
  {
   "cell_type": "code",
   "execution_count": 20,
   "source": [
    "data_kda = pd.concat([data[[\"win\",\"kills\", \"assists\", \"deaths\"]], kda], axis=1)"
   ],
   "outputs": [],
   "metadata": {}
  },
  {
   "cell_type": "code",
   "execution_count": 21,
   "source": [
    "mean_kda = data_kda.groupby(['win']).apply(lambda df: df.mean())\n",
    "mean_kda"
   ],
   "outputs": [
    {
     "output_type": "execute_result",
     "data": {
      "text/html": [
       "<div>\n",
       "<style scoped>\n",
       "    .dataframe tbody tr th:only-of-type {\n",
       "        vertical-align: middle;\n",
       "    }\n",
       "\n",
       "    .dataframe tbody tr th {\n",
       "        vertical-align: top;\n",
       "    }\n",
       "\n",
       "    .dataframe thead th {\n",
       "        text-align: right;\n",
       "    }\n",
       "</style>\n",
       "<table border=\"1\" class=\"dataframe\">\n",
       "  <thead>\n",
       "    <tr style=\"text-align: right;\">\n",
       "      <th></th>\n",
       "      <th>win</th>\n",
       "      <th>kills</th>\n",
       "      <th>assists</th>\n",
       "      <th>deaths</th>\n",
       "      <th>kda</th>\n",
       "    </tr>\n",
       "    <tr>\n",
       "      <th>win</th>\n",
       "      <th></th>\n",
       "      <th></th>\n",
       "      <th></th>\n",
       "      <th></th>\n",
       "      <th></th>\n",
       "    </tr>\n",
       "  </thead>\n",
       "  <tbody>\n",
       "    <tr>\n",
       "      <th>False</th>\n",
       "      <td>0.0</td>\n",
       "      <td>4.468085</td>\n",
       "      <td>8.723404</td>\n",
       "      <td>7.446809</td>\n",
       "      <td>1.875234</td>\n",
       "    </tr>\n",
       "    <tr>\n",
       "      <th>True</th>\n",
       "      <td>1.0</td>\n",
       "      <td>5.811321</td>\n",
       "      <td>15.867925</td>\n",
       "      <td>5.301887</td>\n",
       "      <td>4.989877</td>\n",
       "    </tr>\n",
       "  </tbody>\n",
       "</table>\n",
       "</div>"
      ],
      "text/plain": [
       "       win     kills    assists    deaths       kda\n",
       "win                                                \n",
       "False  0.0  4.468085   8.723404  7.446809  1.875234\n",
       "True   1.0  5.811321  15.867925  5.301887  4.989877"
      ]
     },
     "metadata": {},
     "execution_count": 21
    }
   ],
   "metadata": {}
  },
  {
   "cell_type": "code",
   "execution_count": 22,
   "source": [
    "sns.barplot(x=[\"lose\", \"win\"], y=mean_kda[\"kills\"])"
   ],
   "outputs": [
    {
     "output_type": "execute_result",
     "data": {
      "text/plain": [
       "<AxesSubplot:ylabel='kills'>"
      ]
     },
     "metadata": {},
     "execution_count": 22
    },
    {
     "output_type": "display_data",
     "data": {
      "image/png": "[encoded data removed]",
      "text/plain": [
       "<Figure size 432x288 with 1 Axes>"
      ]
     },
     "metadata": {
      "needs_background": "light"
     }
    }
   ],
   "metadata": {}
  },
  {
   "cell_type": "code",
   "execution_count": 23,
   "source": [
    "sns.barplot(x=[\"lose\", \"win\"], y=mean_kda[\"assists\"])"
   ],
   "outputs": [
    {
     "output_type": "execute_result",
     "data": {
      "text/plain": [
       "<AxesSubplot:ylabel='assists'>"
      ]
     },
     "metadata": {},
     "execution_count": 23
    },
    {
     "output_type": "display_data",
     "data": {
      "image/png": "[encoded data removed]",
      "text/plain": [
       "<Figure size 432x288 with 1 Axes>"
      ]
     },
     "metadata": {
      "needs_background": "light"
     }
    }
   ],
   "metadata": {}
  },
  {
   "cell_type": "code",
   "execution_count": 24,
   "source": [
    "\n",
    "sns.barplot(x=[\"lose\", \"win\"], y=mean_kda[\"deaths\"])"
   ],
   "outputs": [
    {
     "output_type": "execute_result",
     "data": {
      "text/plain": [
       "<AxesSubplot:ylabel='deaths'>"
      ]
     },
     "metadata": {},
     "execution_count": 24
    },
    {
     "output_type": "display_data",
     "data": {
      "image/png": "[encoded data removed]",
      "text/plain": [
       "<Figure size 432x288 with 1 Axes>"
      ]
     },
     "metadata": {
      "needs_background": "light"
     }
    }
   ],
   "metadata": {}
  },
  {
   "cell_type": "code",
   "execution_count": 25,
   "source": [
    "sns.barplot(x=[\"lose\", \"win\"], y=mean_kda[\"kda\"])"
   ],
   "outputs": [
    {
     "output_type": "execute_result",
     "data": {
      "text/plain": [
       "<AxesSubplot:ylabel='kda'>"
      ]
     },
     "metadata": {},
     "execution_count": 25
    },
    {
     "output_type": "display_data",
     "data": {
      "image/png": "[encoded data removed]",
      "text/plain": [
       "<Figure size 432x288 with 1 Axes>"
      ]
     },
     "metadata": {
      "needs_background": "light"
     }
    }
   ],
   "metadata": {}
  },
  {
   "cell_type": "markdown",
   "source": [
    "## 데이터 한 눈에 보기"
   ],
   "metadata": {}
  },
  {
   "cell_type": "code",
   "execution_count": 26,
   "source": [
    "data_kda.describe()"
   ],
   "outputs": [
    {
     "output_type": "execute_result",
     "data": {
      "text/html": [
       "<div>\n",
       "<style scoped>\n",
       "    .dataframe tbody tr th:only-of-type {\n",
       "        vertical-align: middle;\n",
       "    }\n",
       "\n",
       "    .dataframe tbody tr th {\n",
       "        vertical-align: top;\n",
       "    }\n",
       "\n",
       "    .dataframe thead th {\n",
       "        text-align: right;\n",
       "    }\n",
       "</style>\n",
       "<table border=\"1\" class=\"dataframe\">\n",
       "  <thead>\n",
       "    <tr style=\"text-align: right;\">\n",
       "      <th></th>\n",
       "      <th>kills</th>\n",
       "      <th>assists</th>\n",
       "      <th>deaths</th>\n",
       "      <th>kda</th>\n",
       "    </tr>\n",
       "  </thead>\n",
       "  <tbody>\n",
       "    <tr>\n",
       "      <th>count</th>\n",
       "      <td>100.000000</td>\n",
       "      <td>100.000000</td>\n",
       "      <td>100.000000</td>\n",
       "      <td>100.000000</td>\n",
       "    </tr>\n",
       "    <tr>\n",
       "      <th>mean</th>\n",
       "      <td>5.180000</td>\n",
       "      <td>12.510000</td>\n",
       "      <td>6.310000</td>\n",
       "      <td>3.525994</td>\n",
       "    </tr>\n",
       "    <tr>\n",
       "      <th>std</th>\n",
       "      <td>3.870061</td>\n",
       "      <td>9.564766</td>\n",
       "      <td>3.526795</td>\n",
       "      <td>3.223907</td>\n",
       "    </tr>\n",
       "    <tr>\n",
       "      <th>min</th>\n",
       "      <td>0.000000</td>\n",
       "      <td>0.000000</td>\n",
       "      <td>0.000000</td>\n",
       "      <td>-1.000000</td>\n",
       "    </tr>\n",
       "    <tr>\n",
       "      <th>25%</th>\n",
       "      <td>2.750000</td>\n",
       "      <td>4.000000</td>\n",
       "      <td>3.000000</td>\n",
       "      <td>1.321429</td>\n",
       "    </tr>\n",
       "    <tr>\n",
       "      <th>50%</th>\n",
       "      <td>4.000000</td>\n",
       "      <td>9.500000</td>\n",
       "      <td>7.000000</td>\n",
       "      <td>2.954545</td>\n",
       "    </tr>\n",
       "    <tr>\n",
       "      <th>75%</th>\n",
       "      <td>7.000000</td>\n",
       "      <td>20.000000</td>\n",
       "      <td>9.000000</td>\n",
       "      <td>4.446429</td>\n",
       "    </tr>\n",
       "    <tr>\n",
       "      <th>max</th>\n",
       "      <td>23.000000</td>\n",
       "      <td>33.000000</td>\n",
       "      <td>14.000000</td>\n",
       "      <td>20.000000</td>\n",
       "    </tr>\n",
       "  </tbody>\n",
       "</table>\n",
       "</div>"
      ],
      "text/plain": [
       "            kills     assists      deaths         kda\n",
       "count  100.000000  100.000000  100.000000  100.000000\n",
       "mean     5.180000   12.510000    6.310000    3.525994\n",
       "std      3.870061    9.564766    3.526795    3.223907\n",
       "min      0.000000    0.000000    0.000000   -1.000000\n",
       "25%      2.750000    4.000000    3.000000    1.321429\n",
       "50%      4.000000    9.500000    7.000000    2.954545\n",
       "75%      7.000000   20.000000    9.000000    4.446429\n",
       "max     23.000000   33.000000   14.000000   20.000000"
      ]
     },
     "metadata": {},
     "execution_count": 26
    }
   ],
   "metadata": {}
  },
  {
   "cell_type": "markdown",
   "source": [
    "# LCK 따라잡기\n",
    "## to-do\n",
    "- ~~KDA~~\n",
    "- ~~DPM~~ (분당 데미지)\n",
    "- ~~DMG%~~ (팀 내 데미지 비율)\n",
    "- DMG/GOLD (골드 당 데미지)\n",
    "- CSD@15 (15분 CS 차이)\n",
    "- GD@15 (15분 골드 차이)\n",
    "- JP-D (정글러 관여율 차이)\n",
    "+ DMG@END, DMG@15\n",
    "+ 주라인에 따른 위의 통계량\n"
   ],
   "metadata": {}
  },
  {
   "cell_type": "markdown",
   "source": [
    "### KDA"
   ],
   "metadata": {}
  },
  {
   "cell_type": "code",
   "execution_count": 27,
   "source": [
    "kda.head()"
   ],
   "outputs": [
    {
     "output_type": "execute_result",
     "data": {
      "text/plain": [
       "0    2.111111\n",
       "1    1.111111\n",
       "2    1.000000\n",
       "3    1.600000\n",
       "4    2.000000\n",
       "Name: kda, dtype: float64"
      ]
     },
     "metadata": {},
     "execution_count": 27
    }
   ],
   "metadata": {}
  },
  {
   "cell_type": "markdown",
   "source": [
    "### DPM"
   ],
   "metadata": {}
  },
  {
   "cell_type": "code",
   "execution_count": 28,
   "source": [
    "### DPM\n",
    "minute_played = data.timePlayed/60\n",
    "dpm_all = (data.totalDamageDealt/minute_played)\n",
    "dpm_to_champions = data.totalDamageDealtToChampions/minute_played\n",
    "dpm = pd.concat([dpm_all, dpm_to_champions], axis=1, keys=[\"dpm_all\", \"dpm_to_champions\"])\n",
    "display(dpm)\n",
    "# additional\n",
    "display(data.totalTimeSpentDead.describe()/60)\n",
    "display(data_kda.describe())\n",
    "display(data.totalMinionsKilled.describe())"
   ],
   "outputs": [
    {
     "output_type": "display_data",
     "data": {
      "text/html": [
       "<div>\n",
       "<style scoped>\n",
       "    .dataframe tbody tr th:only-of-type {\n",
       "        vertical-align: middle;\n",
       "    }\n",
       "\n",
       "    .dataframe tbody tr th {\n",
       "        vertical-align: top;\n",
       "    }\n",
       "\n",
       "    .dataframe thead th {\n",
       "        text-align: right;\n",
       "    }\n",
       "</style>\n",
       "<table border=\"1\" class=\"dataframe\">\n",
       "  <thead>\n",
       "    <tr style=\"text-align: right;\">\n",
       "      <th></th>\n",
       "      <th>dpm_all</th>\n",
       "      <th>dpm_to_champions</th>\n",
       "    </tr>\n",
       "  </thead>\n",
       "  <tbody>\n",
       "    <tr>\n",
       "      <th>0</th>\n",
       "      <td>2541.532004</td>\n",
       "      <td>843.525708</td>\n",
       "    </tr>\n",
       "    <tr>\n",
       "      <th>1</th>\n",
       "      <td>3749.178295</td>\n",
       "      <td>591.689922</td>\n",
       "    </tr>\n",
       "    <tr>\n",
       "      <th>2</th>\n",
       "      <td>2797.524116</td>\n",
       "      <td>573.231511</td>\n",
       "    </tr>\n",
       "    <tr>\n",
       "      <th>3</th>\n",
       "      <td>5493.585237</td>\n",
       "      <td>620.272408</td>\n",
       "    </tr>\n",
       "    <tr>\n",
       "      <th>4</th>\n",
       "      <td>3980.109170</td>\n",
       "      <td>690.327511</td>\n",
       "    </tr>\n",
       "    <tr>\n",
       "      <th>...</th>\n",
       "      <td>...</td>\n",
       "      <td>...</td>\n",
       "    </tr>\n",
       "    <tr>\n",
       "      <th>95</th>\n",
       "      <td>1674.051928</td>\n",
       "      <td>744.547600</td>\n",
       "    </tr>\n",
       "    <tr>\n",
       "      <th>96</th>\n",
       "      <td>5951.055319</td>\n",
       "      <td>680.655319</td>\n",
       "    </tr>\n",
       "    <tr>\n",
       "      <th>97</th>\n",
       "      <td>2901.543461</td>\n",
       "      <td>1416.068237</td>\n",
       "    </tr>\n",
       "    <tr>\n",
       "      <th>98</th>\n",
       "      <td>2296.599050</td>\n",
       "      <td>567.863617</td>\n",
       "    </tr>\n",
       "    <tr>\n",
       "      <th>99</th>\n",
       "      <td>944.400871</td>\n",
       "      <td>478.169935</td>\n",
       "    </tr>\n",
       "  </tbody>\n",
       "</table>\n",
       "<p>100 rows × 2 columns</p>\n",
       "</div>"
      ],
      "text/plain": [
       "        dpm_all  dpm_to_champions\n",
       "0   2541.532004        843.525708\n",
       "1   3749.178295        591.689922\n",
       "2   2797.524116        573.231511\n",
       "3   5493.585237        620.272408\n",
       "4   3980.109170        690.327511\n",
       "..          ...               ...\n",
       "95  1674.051928        744.547600\n",
       "96  5951.055319        680.655319\n",
       "97  2901.543461       1416.068237\n",
       "98  2296.599050        567.863617\n",
       "99   944.400871        478.169935\n",
       "\n",
       "[100 rows x 2 columns]"
      ]
     },
     "metadata": {}
    },
    {
     "output_type": "display_data",
     "data": {
      "text/plain": [
       "count     1.666667\n",
       "mean      2.974500\n",
       "std       2.088225\n",
       "min       0.000000\n",
       "25%       1.300000\n",
       "50%       2.916667\n",
       "75%       4.437500\n",
       "max      11.900000\n",
       "Name: totalTimeSpentDead, dtype: float64"
      ]
     },
     "metadata": {}
    },
    {
     "output_type": "display_data",
     "data": {
      "text/html": [
       "<div>\n",
       "<style scoped>\n",
       "    .dataframe tbody tr th:only-of-type {\n",
       "        vertical-align: middle;\n",
       "    }\n",
       "\n",
       "    .dataframe tbody tr th {\n",
       "        vertical-align: top;\n",
       "    }\n",
       "\n",
       "    .dataframe thead th {\n",
       "        text-align: right;\n",
       "    }\n",
       "</style>\n",
       "<table border=\"1\" class=\"dataframe\">\n",
       "  <thead>\n",
       "    <tr style=\"text-align: right;\">\n",
       "      <th></th>\n",
       "      <th>kills</th>\n",
       "      <th>assists</th>\n",
       "      <th>deaths</th>\n",
       "      <th>kda</th>\n",
       "    </tr>\n",
       "  </thead>\n",
       "  <tbody>\n",
       "    <tr>\n",
       "      <th>count</th>\n",
       "      <td>100.000000</td>\n",
       "      <td>100.000000</td>\n",
       "      <td>100.000000</td>\n",
       "      <td>100.000000</td>\n",
       "    </tr>\n",
       "    <tr>\n",
       "      <th>mean</th>\n",
       "      <td>5.180000</td>\n",
       "      <td>12.510000</td>\n",
       "      <td>6.310000</td>\n",
       "      <td>3.525994</td>\n",
       "    </tr>\n",
       "    <tr>\n",
       "      <th>std</th>\n",
       "      <td>3.870061</td>\n",
       "      <td>9.564766</td>\n",
       "      <td>3.526795</td>\n",
       "      <td>3.223907</td>\n",
       "    </tr>\n",
       "    <tr>\n",
       "      <th>min</th>\n",
       "      <td>0.000000</td>\n",
       "      <td>0.000000</td>\n",
       "      <td>0.000000</td>\n",
       "      <td>-1.000000</td>\n",
       "    </tr>\n",
       "    <tr>\n",
       "      <th>25%</th>\n",
       "      <td>2.750000</td>\n",
       "      <td>4.000000</td>\n",
       "      <td>3.000000</td>\n",
       "      <td>1.321429</td>\n",
       "    </tr>\n",
       "    <tr>\n",
       "      <th>50%</th>\n",
       "      <td>4.000000</td>\n",
       "      <td>9.500000</td>\n",
       "      <td>7.000000</td>\n",
       "      <td>2.954545</td>\n",
       "    </tr>\n",
       "    <tr>\n",
       "      <th>75%</th>\n",
       "      <td>7.000000</td>\n",
       "      <td>20.000000</td>\n",
       "      <td>9.000000</td>\n",
       "      <td>4.446429</td>\n",
       "    </tr>\n",
       "    <tr>\n",
       "      <th>max</th>\n",
       "      <td>23.000000</td>\n",
       "      <td>33.000000</td>\n",
       "      <td>14.000000</td>\n",
       "      <td>20.000000</td>\n",
       "    </tr>\n",
       "  </tbody>\n",
       "</table>\n",
       "</div>"
      ],
      "text/plain": [
       "            kills     assists      deaths         kda\n",
       "count  100.000000  100.000000  100.000000  100.000000\n",
       "mean     5.180000   12.510000    6.310000    3.525994\n",
       "std      3.870061    9.564766    3.526795    3.223907\n",
       "min      0.000000    0.000000    0.000000   -1.000000\n",
       "25%      2.750000    4.000000    3.000000    1.321429\n",
       "50%      4.000000    9.500000    7.000000    2.954545\n",
       "75%      7.000000   20.000000    9.000000    4.446429\n",
       "max     23.000000   33.000000   14.000000   20.000000"
      ]
     },
     "metadata": {}
    },
    {
     "output_type": "display_data",
     "data": {
      "text/plain": [
       "count    100.000000\n",
       "mean      77.430000\n",
       "std       59.055915\n",
       "min        7.000000\n",
       "25%       29.000000\n",
       "50%       49.000000\n",
       "75%      123.000000\n",
       "max      223.000000\n",
       "Name: totalMinionsKilled, dtype: float64"
      ]
     },
     "metadata": {}
    }
   ],
   "metadata": {}
  },
  {
   "cell_type": "code",
   "execution_count": 29,
   "source": [
    "print(\"가장 오래 죽어있던 시간\")\n",
    "display(data[[\"kills\",\"assists\",\"deaths\",\"totalTimeSpentDead\",\"championName\",\"timePlayed\"]].loc[data.totalTimeSpentDead==714])\n",
    "print(\"가장 쩔었던 순간 (perfect 스코어 제외)\")\n",
    "display(data[[\"kills\",\"assists\",\"deaths\",\"totalTimeSpentDead\",\"championName\",\"timePlayed\"]].loc[data_kda.kda==data_kda.kda.max()])\n",
    "print(\"가장 미니언을 많이 먹은 날\")\n",
    "display(data[[\"kills\",\"assists\",\"deaths\",\"totalTimeSpentDead\",\"championName\",\"timePlayed\",\"totalMinionsKilled\"]].loc[data.totalMinionsKilled==data.totalMinionsKilled.max()])\n",
    "# data.timePlayed"
   ],
   "outputs": [
    {
     "output_type": "stream",
     "name": "stdout",
     "text": [
      "가장 오래 죽어있던 시간\n"
     ]
    },
    {
     "output_type": "display_data",
     "data": {
      "text/html": [
       "<div>\n",
       "<style scoped>\n",
       "    .dataframe tbody tr th:only-of-type {\n",
       "        vertical-align: middle;\n",
       "    }\n",
       "\n",
       "    .dataframe tbody tr th {\n",
       "        vertical-align: top;\n",
       "    }\n",
       "\n",
       "    .dataframe thead th {\n",
       "        text-align: right;\n",
       "    }\n",
       "</style>\n",
       "<table border=\"1\" class=\"dataframe\">\n",
       "  <thead>\n",
       "    <tr style=\"text-align: right;\">\n",
       "      <th></th>\n",
       "      <th>kills</th>\n",
       "      <th>assists</th>\n",
       "      <th>deaths</th>\n",
       "      <th>totalTimeSpentDead</th>\n",
       "      <th>championName</th>\n",
       "      <th>timePlayed</th>\n",
       "    </tr>\n",
       "  </thead>\n",
       "  <tbody>\n",
       "    <tr>\n",
       "      <th>75</th>\n",
       "      <td>14</td>\n",
       "      <td>15</td>\n",
       "      <td>14</td>\n",
       "      <td>714</td>\n",
       "      <td>Brand</td>\n",
       "      <td>2911</td>\n",
       "    </tr>\n",
       "  </tbody>\n",
       "</table>\n",
       "</div>"
      ],
      "text/plain": [
       "    kills  assists  deaths  totalTimeSpentDead championName  timePlayed\n",
       "75     14       15      14                 714        Brand        2911"
      ]
     },
     "metadata": {}
    },
    {
     "output_type": "stream",
     "name": "stdout",
     "text": [
      "가장 쩔었던 순간 (perfect 스코어 제외)\n"
     ]
    },
    {
     "output_type": "display_data",
     "data": {
      "text/html": [
       "<div>\n",
       "<style scoped>\n",
       "    .dataframe tbody tr th:only-of-type {\n",
       "        vertical-align: middle;\n",
       "    }\n",
       "\n",
       "    .dataframe tbody tr th {\n",
       "        vertical-align: top;\n",
       "    }\n",
       "\n",
       "    .dataframe thead th {\n",
       "        text-align: right;\n",
       "    }\n",
       "</style>\n",
       "<table border=\"1\" class=\"dataframe\">\n",
       "  <thead>\n",
       "    <tr style=\"text-align: right;\">\n",
       "      <th></th>\n",
       "      <th>kills</th>\n",
       "      <th>assists</th>\n",
       "      <th>deaths</th>\n",
       "      <th>totalTimeSpentDead</th>\n",
       "      <th>championName</th>\n",
       "      <th>timePlayed</th>\n",
       "    </tr>\n",
       "  </thead>\n",
       "  <tbody>\n",
       "    <tr>\n",
       "      <th>62</th>\n",
       "      <td>3</td>\n",
       "      <td>17</td>\n",
       "      <td>1</td>\n",
       "      <td>16</td>\n",
       "      <td>Senna</td>\n",
       "      <td>718</td>\n",
       "    </tr>\n",
       "  </tbody>\n",
       "</table>\n",
       "</div>"
      ],
      "text/plain": [
       "    kills  assists  deaths  totalTimeSpentDead championName  timePlayed\n",
       "62      3       17       1                  16        Senna         718"
      ]
     },
     "metadata": {}
    },
    {
     "output_type": "stream",
     "name": "stdout",
     "text": [
      "가장 미니언을 많이 먹은 날\n"
     ]
    },
    {
     "output_type": "display_data",
     "data": {
      "text/html": [
       "<div>\n",
       "<style scoped>\n",
       "    .dataframe tbody tr th:only-of-type {\n",
       "        vertical-align: middle;\n",
       "    }\n",
       "\n",
       "    .dataframe tbody tr th {\n",
       "        vertical-align: top;\n",
       "    }\n",
       "\n",
       "    .dataframe thead th {\n",
       "        text-align: right;\n",
       "    }\n",
       "</style>\n",
       "<table border=\"1\" class=\"dataframe\">\n",
       "  <thead>\n",
       "    <tr style=\"text-align: right;\">\n",
       "      <th></th>\n",
       "      <th>kills</th>\n",
       "      <th>assists</th>\n",
       "      <th>deaths</th>\n",
       "      <th>totalTimeSpentDead</th>\n",
       "      <th>championName</th>\n",
       "      <th>timePlayed</th>\n",
       "      <th>totalMinionsKilled</th>\n",
       "    </tr>\n",
       "  </thead>\n",
       "  <tbody>\n",
       "    <tr>\n",
       "      <th>49</th>\n",
       "      <td>10</td>\n",
       "      <td>10</td>\n",
       "      <td>5</td>\n",
       "      <td>247</td>\n",
       "      <td>Sion</td>\n",
       "      <td>2194</td>\n",
       "      <td>223</td>\n",
       "    </tr>\n",
       "  </tbody>\n",
       "</table>\n",
       "</div>"
      ],
      "text/plain": [
       "    kills  assists  deaths  totalTimeSpentDead championName  timePlayed  \\\n",
       "49     10       10       5                 247         Sion        2194   \n",
       "\n",
       "    totalMinionsKilled  \n",
       "49                 223  "
      ]
     },
     "metadata": {}
    }
   ],
   "metadata": {}
  },
  {
   "cell_type": "markdown",
   "source": [
    "### DMG%"
   ],
   "metadata": {}
  },
  {
   "cell_type": "code",
   "execution_count": 59,
   "source": [
    "sum_dmg_per = 0\n",
    "for i in range(len(data)):\n",
    "    dmg_team = 0\n",
    "    dmg_me = 0\n",
    "    for j in range(10):\n",
    "        if (df_participants.iloc[i*10 + j].puuid == summoner_puuid):\n",
    "            dmg_me = dmg_me + df_participants.iloc[i*10 + j].totalDamageDealtToChampions\n",
    "        dmg_team = dmg_team + df_participants.iloc[i*10 + j].totalDamageDealtToChampions\n",
    "    dmg_per = dmg_me/dmg_team\n",
    "    sum_dmg_per = sum_dmg_per + dmg_per\n",
    "print(\"DMG%% = %.2f\" % (sum_dmg_per/len(data)))\n",
    "# DMG_(data.totalDamageDealtToChampions / (data.timePlayed/60)).describe()\n",
    "# data.totalDamageDealtToChampions[0]\n",
    "# (data.timePlayed/60)[0]\n",
    "# data.totalDamageDealtToChampions[0] / (data.timePlayed/60)[0]"
   ],
   "outputs": [
    {
     "output_type": "stream",
     "name": "stdout",
     "text": [
      "DMG% = 0.09\n"
     ]
    }
   ],
   "metadata": {}
  },
  {
   "cell_type": "markdown",
   "source": [
    "### DMG/GOLD"
   ],
   "metadata": {}
  },
  {
   "cell_type": "code",
   "execution_count": 70,
   "source": [
    "dmg = data.totalDamageDealtToChampions\n",
    "gold = data.goldEarned\n",
    "dmg_by_gold = dmg/gold\n",
    "\n",
    "print(\"DMG/GOLD = %.2f\" % dmg_by_gold.mean())\n",
    "# data.totalDamageDealtToChampions[0]\n",
    "# data.totalDamageDealtToChampions[0], (data.goldEarned[0])\n",
    "# dmg_by_gold.describe()"
   ],
   "outputs": [
    {
     "output_type": "stream",
     "name": "stdout",
     "text": [
      "DMG/GOLD = 1.52\n"
     ]
    }
   ],
   "metadata": {}
  },
  {
   "cell_type": "markdown",
   "source": [
    "## API - timeline 가져오기"
   ],
   "metadata": {}
  },
  {
   "cell_type": "code",
   "execution_count": 179,
   "source": [
    "with open(\"data/data_summoner_match_timeline_data_야식은치킨이지.json\", \"r\") as file:\n",
    "    json_data = json.load(file)\n",
    "tl_meta = [match[\"metadata\"] for match in json_data]\n",
    "df_tl_meta = pd.json_normalize(tl_meta)\n",
    "tl_info = [match[\"info\"][\"frames\"] for match in json_data]\n",
    "frame_interval = 60000  # maybe 60 * 1000 milliseconds\n"
   ],
   "outputs": [],
   "metadata": {}
  },
  {
   "cell_type": "markdown",
   "source": [
    "## 포지션 정보 가져오기"
   ],
   "metadata": {}
  },
  {
   "cell_type": "code",
   "execution_count": 275,
   "source": [
    "pd.concat([data.lane, data.individualPosition], axis=1).head()"
   ],
   "outputs": [
    {
     "output_type": "execute_result",
     "data": {
      "text/html": [
       "<div>\n",
       "<style scoped>\n",
       "    .dataframe tbody tr th:only-of-type {\n",
       "        vertical-align: middle;\n",
       "    }\n",
       "\n",
       "    .dataframe tbody tr th {\n",
       "        vertical-align: top;\n",
       "    }\n",
       "\n",
       "    .dataframe thead th {\n",
       "        text-align: right;\n",
       "    }\n",
       "</style>\n",
       "<table border=\"1\" class=\"dataframe\">\n",
       "  <thead>\n",
       "    <tr style=\"text-align: right;\">\n",
       "      <th></th>\n",
       "      <th>lane</th>\n",
       "      <th>individualPosition</th>\n",
       "    </tr>\n",
       "  </thead>\n",
       "  <tbody>\n",
       "    <tr>\n",
       "      <th>0</th>\n",
       "      <td>NONE</td>\n",
       "      <td>Invalid</td>\n",
       "    </tr>\n",
       "    <tr>\n",
       "      <th>1</th>\n",
       "      <td>TOP</td>\n",
       "      <td>TOP</td>\n",
       "    </tr>\n",
       "    <tr>\n",
       "      <th>2</th>\n",
       "      <td>BOTTOM</td>\n",
       "      <td>BOTTOM</td>\n",
       "    </tr>\n",
       "    <tr>\n",
       "      <th>3</th>\n",
       "      <td>BOTTOM</td>\n",
       "      <td>BOTTOM</td>\n",
       "    </tr>\n",
       "    <tr>\n",
       "      <th>4</th>\n",
       "      <td>NONE</td>\n",
       "      <td>TOP</td>\n",
       "    </tr>\n",
       "    <tr>\n",
       "      <th>...</th>\n",
       "      <td>...</td>\n",
       "      <td>...</td>\n",
       "    </tr>\n",
       "    <tr>\n",
       "      <th>95</th>\n",
       "      <td>JUNGLE</td>\n",
       "      <td>Invalid</td>\n",
       "    </tr>\n",
       "    <tr>\n",
       "      <th>96</th>\n",
       "      <td>BOTTOM</td>\n",
       "      <td>BOTTOM</td>\n",
       "    </tr>\n",
       "    <tr>\n",
       "      <th>97</th>\n",
       "      <td>TOP</td>\n",
       "      <td>Invalid</td>\n",
       "    </tr>\n",
       "    <tr>\n",
       "      <th>98</th>\n",
       "      <td>BOTTOM</td>\n",
       "      <td>UTILITY</td>\n",
       "    </tr>\n",
       "    <tr>\n",
       "      <th>99</th>\n",
       "      <td>BOTTOM</td>\n",
       "      <td>UTILITY</td>\n",
       "    </tr>\n",
       "  </tbody>\n",
       "</table>\n",
       "<p>100 rows × 2 columns</p>\n",
       "</div>"
      ],
      "text/plain": [
       "      lane individualPosition\n",
       "0     NONE            Invalid\n",
       "1      TOP                TOP\n",
       "2   BOTTOM             BOTTOM\n",
       "3   BOTTOM             BOTTOM\n",
       "4     NONE                TOP\n",
       "..     ...                ...\n",
       "95  JUNGLE            Invalid\n",
       "96  BOTTOM             BOTTOM\n",
       "97     TOP            Invalid\n",
       "98  BOTTOM            UTILITY\n",
       "99  BOTTOM            UTILITY\n",
       "\n",
       "[100 rows x 2 columns]"
      ]
     },
     "metadata": {},
     "execution_count": 275
    }
   ],
   "metadata": {}
  },
  {
   "cell_type": "code",
   "execution_count": 127,
   "source": [
    "df_info.iloc[data.lane[invalid_index].index].gameMode.head()"
   ],
   "outputs": [
    {
     "output_type": "execute_result",
     "data": {
      "text/plain": [
       "0     ARAM\n",
       "9     ARAM\n",
       "10    ARAM\n",
       "11    ARAM\n",
       "13    ARAM\n",
       "Name: gameMode, dtype: object"
      ]
     },
     "metadata": {},
     "execution_count": 127
    }
   ],
   "metadata": {}
  },
  {
   "cell_type": "markdown",
   "source": [
    "    라인을 알 수 없는 경우는 주로 칼바람이나 넥서스 파괴 모드 등 특별한 모드이다"
   ],
   "metadata": {}
  },
  {
   "cell_type": "code",
   "execution_count": 123,
   "source": [
    "position = data.individualPosition.copy()\n",
    "valid_index = position != \"Invalid\"\n",
    "(pd.concat([data.lane, data.individualPosition], axis=1).iloc[data.lane[valid_index].index]).head()"
   ],
   "outputs": [
    {
     "output_type": "execute_result",
     "data": {
      "text/html": [
       "<div>\n",
       "<style scoped>\n",
       "    .dataframe tbody tr th:only-of-type {\n",
       "        vertical-align: middle;\n",
       "    }\n",
       "\n",
       "    .dataframe tbody tr th {\n",
       "        vertical-align: top;\n",
       "    }\n",
       "\n",
       "    .dataframe thead th {\n",
       "        text-align: right;\n",
       "    }\n",
       "</style>\n",
       "<table border=\"1\" class=\"dataframe\">\n",
       "  <thead>\n",
       "    <tr style=\"text-align: right;\">\n",
       "      <th></th>\n",
       "      <th>lane</th>\n",
       "      <th>individualPosition</th>\n",
       "    </tr>\n",
       "  </thead>\n",
       "  <tbody>\n",
       "    <tr>\n",
       "      <th>1</th>\n",
       "      <td>TOP</td>\n",
       "      <td>TOP</td>\n",
       "    </tr>\n",
       "    <tr>\n",
       "      <th>2</th>\n",
       "      <td>BOTTOM</td>\n",
       "      <td>BOTTOM</td>\n",
       "    </tr>\n",
       "    <tr>\n",
       "      <th>3</th>\n",
       "      <td>BOTTOM</td>\n",
       "      <td>BOTTOM</td>\n",
       "    </tr>\n",
       "    <tr>\n",
       "      <th>4</th>\n",
       "      <td>NONE</td>\n",
       "      <td>TOP</td>\n",
       "    </tr>\n",
       "    <tr>\n",
       "      <th>5</th>\n",
       "      <td>BOTTOM</td>\n",
       "      <td>BOTTOM</td>\n",
       "    </tr>\n",
       "  </tbody>\n",
       "</table>\n",
       "</div>"
      ],
      "text/plain": [
       "     lane individualPosition\n",
       "1     TOP                TOP\n",
       "2  BOTTOM             BOTTOM\n",
       "3  BOTTOM             BOTTOM\n",
       "4    NONE                TOP\n",
       "5  BOTTOM             BOTTOM"
      ]
     },
     "metadata": {},
     "execution_count": 123
    }
   ],
   "metadata": {}
  },
  {
   "cell_type": "markdown",
   "source": [
    "## 맞 라인의 적 정보 가져오기\n",
    "- 여기서부턴 경기 index를 사용하였음\n",
    "\n",
    "    timeline에선 참가자 id가 1~10으로 설정되어 있다는 점을 주의해주어야 합니다."
   ],
   "metadata": {}
  },
  {
   "cell_type": "code",
   "execution_count": 286,
   "source": [
    "match_index = 1\n",
    "summoner_position = data.individualPosition[match_index]\n",
    "participant = df_participants.iloc[match_index*10: match_index*10+10].reset_index() # index 초기화 중요\n",
    "jungler_index = [-1, -1]\n",
    "for i in range(10):\n",
    "    # 정글러 구하기\n",
    "    if participant.individualPosition[i] == \"JUNGLE\":\n",
    "        if i < 5: jungler_index[0] = i\n",
    "        else: jungler_index[1] = i\n",
    "    # 내 index 구하기\n",
    "    if participant.puuid[i] == summoner_puuid: \n",
    "        summoner_index = i\n",
    "        if summoner_index < 5 : summoner_team = 0   # 0: blue / 1: red\n",
    "        else: summoner_team = 1\n",
    "    # 맞라인 상대의 정보 구하기\n",
    "    elif participant.individualPosition[i] == summoner_position:\n",
    "        rival = participant.iloc[i]\n",
    "        rival_index = i"
   ],
   "outputs": [],
   "metadata": {}
  },
  {
   "cell_type": "markdown",
   "source": [
    "### CSD@15 (15분 CS 차이)\n",
    "- 팀 데이터가 아닌, 맞라이너와의 차이를 구해보았음"
   ],
   "metadata": {}
  },
  {
   "cell_type": "code",
   "execution_count": 246,
   "source": [
    "tl_participants_frames = [tl_info[match_index][t][\"participantFrames\"] for t in range(len(tl_info[match_index]))]\n",
    "# df_tl_participants_frames = pd.DataFrame.from_dict(tl_participants_frames)\n",
    "tl_15_participants_frames = tl_participants_frames[15]  # 15분 데이터\n",
    "df_tl_15_participants_frames = pd.json_normalize([tl_15_participants_frames[str(x+1)] for x in range(10)])"
   ],
   "outputs": [],
   "metadata": {}
  },
  {
   "cell_type": "code",
   "execution_count": 257,
   "source": [
    "df_tl_15_participants_frames.minionsKilled[summoner_index] - df_tl_15_participants_frames.minionsKilled[rival_index]"
   ],
   "outputs": [
    {
     "output_type": "execute_result",
     "data": {
      "text/plain": [
       "52"
      ]
     },
     "metadata": {},
     "execution_count": 257
    }
   ],
   "metadata": {}
  },
  {
   "cell_type": "markdown",
   "source": [
    "### GD@15 (15분 골드 차이)"
   ],
   "metadata": {}
  },
  {
   "cell_type": "code",
   "execution_count": 259,
   "source": [
    "df_tl_15_participants_frames.totalGold[summoner_index] - df_tl_15_participants_frames.totalGold[rival_index]"
   ],
   "outputs": [
    {
     "output_type": "execute_result",
     "data": {
      "text/plain": [
       "1558"
      ]
     },
     "metadata": {},
     "execution_count": 259
    }
   ],
   "metadata": {}
  },
  {
   "cell_type": "markdown",
   "source": [
    "### JP-D (정글러 관여율 차이)"
   ],
   "metadata": {}
  },
  {
   "cell_type": "markdown",
   "source": [
    "## 킬 이벤트 가져오기"
   ],
   "metadata": {}
  },
  {
   "cell_type": "code",
   "execution_count": 420,
   "source": [
    "tl_events = [tl_info[match_index][t][\"events\"] for t in range(len(tl_info[match_index]))]\n",
    "tl_kill_events = []\n",
    "for i in range(len(tl_events)):\n",
    "    for event in tl_events[i]:\n",
    "        if event[\"type\"] == \"CHAMPION_KILL\":\n",
    "            tl_kill_events.append(pd.json_normalize(event))\n",
    "df_kill_events = pd.concat(tl_kill_events).reset_index()\n",
    "del df_kill_events['index']"
   ],
   "outputs": [],
   "metadata": {}
  },
  {
   "cell_type": "markdown",
   "source": [
    "## 정글러 정보 가져오기"
   ],
   "metadata": {}
  },
  {
   "cell_type": "code",
   "execution_count": 428,
   "source": [
    "print(summoner_index+1, jungler_index[summoner_team]+1, \"/\", rival_index+1, jungler_index[summoner_team != 1]+1)\n",
    "# NaN 값 처리 - 빈 list를 넣어줌\n",
    "d = df_kill_events\n",
    "d.assistingParticipantIds = [[] if x is np.NaN else x for x in d.assistingParticipantIds]   # is를 써야 하는 이유 : NaN 값은 언제나 다른 값이므로 객체를 비교해야합니다."
   ],
   "outputs": [
    {
     "output_type": "stream",
     "name": "stdout",
     "text": [
      "6 7 / 4 5\n"
     ]
    }
   ],
   "metadata": {}
  },
  {
   "cell_type": "code",
   "execution_count": 429,
   "source": [
    "# mask 생성\n",
    "mask_summoner_kill = d.killerId == summoner_index+1\n",
    "# mask_summoner_assist = \n",
    "d.assistingParticipantIds.map(lambda arr : summoner_index+1 in arr)\n",
    "# mask_summoner_jungler_assist = d.killerId == summoner_index+1\n",
    "# print(mask_summoner_kill)\n",
    "# df_kill_events[]\n",
    "# df_kill_events[(d.killerId == summoner_index+1) & d.assistingParticipantIds.map(lambda x: False if type(x) == float else jungler_index[summoner_team]+1 in x)]\n"
   ],
   "outputs": [
    {
     "output_type": "execute_result",
     "data": {
      "text/plain": [
       "0       [8, 10]\n",
       "1       [8, 10]\n",
       "2           [8]\n",
       "3            []\n",
       "4           [2]\n",
       "        ...    \n",
       "59          [2]\n",
       "60       [1, 3]\n",
       "61    [1, 2, 3]\n",
       "62    [1, 2, 3]\n",
       "63       [3, 5]\n",
       "Name: assistingParticipantIds, Length: 64, dtype: object"
      ]
     },
     "metadata": {},
     "execution_count": 429
    }
   ],
   "metadata": {}
  }
 ],
 "metadata": {
  "interpreter": {
   "hash": "31f2aee4e71d21fbe5cf8b01ff0e069b9275f58929596ceb00d14d90e3e16cd6"
  },
  "kernelspec": {
   "name": "python3",
   "display_name": "Python 3.9.5 64-bit"
  },
  "language_info": {
   "codemirror_mode": {
    "name": "ipython",
    "version": 3
   },
   "file_extension": ".py",
   "mimetype": "text/x-python",
   "name": "python",
   "nbconvert_exporter": "python",
   "pygments_lexer": "ipython3",
   "version": "3.9.5"
  }
 },
 "nbformat": 4,
 "nbformat_minor": 2
}